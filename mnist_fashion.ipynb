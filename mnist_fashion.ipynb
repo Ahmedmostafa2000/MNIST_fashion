{
 "cells": [
  {
   "cell_type": "code",
   "execution_count": 1,
   "metadata": {},
   "outputs": [],
   "source": [
    "from tensorflow import keras\n",
    "import numpy as np\n",
    "from matplotlib import pyplot as plt\n",
    "from tensorflow.keras.datasets import fashion_mnist\n",
    "from keras.layers import Conv2D, Activation, MaxPooling2D,Flatten,Dense\n",
    "from keras.callbacks import ModelCheckpoint"
   ]
  },
  {
   "cell_type": "code",
   "execution_count": 2,
   "metadata": {},
   "outputs": [
    {
     "name": "stdout",
     "output_type": "stream",
     "text": [
      "Downloading data from https://storage.googleapis.com/tensorflow/tf-keras-datasets/train-labels-idx1-ubyte.gz\n",
      "32768/29515 [=================================] - 0s 3us/step\n",
      "Downloading data from https://storage.googleapis.com/tensorflow/tf-keras-datasets/train-images-idx3-ubyte.gz\n",
      "26427392/26421880 [==============================] - 33s 1us/step\n",
      "Downloading data from https://storage.googleapis.com/tensorflow/tf-keras-datasets/t10k-labels-idx1-ubyte.gz\n",
      "8192/5148 [===============================================] - 0s 1us/step\n",
      "Downloading data from https://storage.googleapis.com/tensorflow/tf-keras-datasets/t10k-images-idx3-ubyte.gz\n",
      "4423680/4422102 [==============================] - 5s 1us/step\n"
     ]
    }
   ],
   "source": [
    "(x_train,y_train), (x_test,y_test) = fashion_mnist.load_data()"
   ]
  },
  {
   "cell_type": "code",
   "execution_count": 3,
   "metadata": {},
   "outputs": [],
   "source": [
    "x_train = x_train.reshape(-1,28,28,1)\n",
    "x_test=x_test.reshape(-1,28,28,1)\n",
    "x_train = x_train/255\n",
    "x_test = x_test/255"
   ]
  },
  {
   "cell_type": "code",
   "execution_count": 4,
   "metadata": {},
   "outputs": [],
   "source": [
    "def cnn():\n",
    "    model = keras.models.Sequential()\n",
    "    model.add(Conv2D(32,(3,3),input_shape=x_train.shape[1:]))\n",
    "    model.add(Activation('relu'))\n",
    "    model.add(MaxPooling2D(pool_size=(2,2)))\n",
    "    \n",
    "    model.add(Conv2D(32,(3,3)))\n",
    "    model.add(Activation('relu'))\n",
    "    model.add(MaxPooling2D(pool_size=(2,2)))\n",
    "    \n",
    "    model.add(Flatten())\n",
    "    \n",
    "    model.add(Dense( 10))\n",
    "    model.add(Activation('softmax'))\n",
    "    \n",
    "    model.compile(optimizer = 'adam',\n",
    "                 loss = keras.losses.SparseCategoricalCrossentropy(),\n",
    "                 metrics = [\"accuracy\"])\n",
    "    return model"
   ]
  },
  {
   "cell_type": "code",
   "execution_count": 5,
   "metadata": {},
   "outputs": [],
   "source": [
    "model = cnn()"
   ]
  },
  {
   "cell_type": "code",
   "execution_count": 6,
   "metadata": {},
   "outputs": [
    {
     "name": "stdout",
     "output_type": "stream",
     "text": [
      "Epoch 1/2\n",
      "469/469 [==============================] - 130s 278ms/step - loss: 0.6444 - accuracy: 0.7735\n",
      "Epoch 2/2\n",
      "469/469 [==============================] - 131s 280ms/step - loss: 0.4124 - accuracy: 0.8543\n"
     ]
    },
    {
     "data": {
      "text/plain": [
       "<tensorflow.python.keras.callbacks.History at 0x265514a8040>"
      ]
     },
     "execution_count": 6,
     "metadata": {},
     "output_type": "execute_result"
    }
   ],
   "source": [
    "checkpointer = ModelCheckpoint(filepath='best_mnist_model.hdf5', \n",
    "                               verbose=1, save_best_only=True)\n",
    "model.fit(x_train,y_train,epochs=2, batch_size=128, verbose=1)"
   ]
  },
  {
   "cell_type": "code",
   "execution_count": 7,
   "metadata": {},
   "outputs": [
    {
     "name": "stdout",
     "output_type": "stream",
     "text": [
      "Model: \"sequential\"\n",
      "_________________________________________________________________\n",
      "Layer (type)                 Output Shape              Param #   \n",
      "=================================================================\n",
      "conv2d (Conv2D)              (None, 26, 26, 32)        320       \n",
      "_________________________________________________________________\n",
      "activation (Activation)      (None, 26, 26, 32)        0         \n",
      "_________________________________________________________________\n",
      "max_pooling2d (MaxPooling2D) (None, 13, 13, 32)        0         \n",
      "_________________________________________________________________\n",
      "conv2d_1 (Conv2D)            (None, 11, 11, 32)        9248      \n",
      "_________________________________________________________________\n",
      "activation_1 (Activation)    (None, 11, 11, 32)        0         \n",
      "_________________________________________________________________\n",
      "max_pooling2d_1 (MaxPooling2 (None, 5, 5, 32)          0         \n",
      "_________________________________________________________________\n",
      "flatten (Flatten)            (None, 800)               0         \n",
      "_________________________________________________________________\n",
      "dense (Dense)                (None, 10)                8010      \n",
      "_________________________________________________________________\n",
      "activation_2 (Activation)    (None, 10)                0         \n",
      "=================================================================\n",
      "Total params: 17,578\n",
      "Trainable params: 17,578\n",
      "Non-trainable params: 0\n",
      "_________________________________________________________________\n"
     ]
    }
   ],
   "source": [
    "model.summary()"
   ]
  },
  {
   "cell_type": "code",
   "execution_count": 8,
   "metadata": {},
   "outputs": [
    {
     "name": "stdout",
     "output_type": "stream",
     "text": [
      "313/313 [==============================] - 11s 36ms/step - loss: 0.4173 - accuracy: 0.85090s - loss: 0.4194 - accura\n"
     ]
    },
    {
     "data": {
      "text/plain": [
       "[0.41734784841537476, 0.8508999943733215]"
      ]
     },
     "execution_count": 8,
     "metadata": {},
     "output_type": "execute_result"
    }
   ],
   "source": [
    "model.evaluate(x_test,y_test)"
   ]
  },
  {
   "cell_type": "markdown",
   "metadata": {},
   "source": [
    "# trying kerastuner"
   ]
  },
  {
   "cell_type": "code",
   "execution_count": 13,
   "metadata": {},
   "outputs": [],
   "source": [
    "from kerastuner.tuners import RandomSearch\n",
    "from kerastuner.engine.hyperparameters import HyperParameters"
   ]
  },
  {
   "cell_type": "code",
   "execution_count": 23,
   "metadata": {},
   "outputs": [],
   "source": [
    "def cnn_with_tuning(hyper_params):\n",
    "    model = keras.models.Sequential()\n",
    "    \n",
    "    model.add(Conv2D(hyper_params.Int(\"input\",min_value=32,max_value=128,step=32),(3,3),input_shape=x_train.shape[1:]))\n",
    "    model.add(Activation('relu'))\n",
    "    model.add(MaxPooling2D(pool_size=(2,2)))\n",
    "    for i in range(hyper_params.Int(\"c2_layer_n\",1,4)):\n",
    "        model.add(Conv2D(hyper_params.Int(f\"conv2_with_{i}_units\",min_value=32,max_value=128,step=32),(3,3)))\n",
    "        model.add(Activation('relu'))\n",
    "        model.add(MaxPooling2D(pool_size=(2,2)))\n",
    "    \n",
    "    model.add(Flatten())\n",
    "    \n",
    "    model.add(Dense( 10))\n",
    "    model.add(Activation('softmax'))\n",
    "    \n",
    "    model.compile(optimizer = 'adam',\n",
    "                 loss = keras.losses.SparseCategoricalCrossentropy(),\n",
    "                 metrics = [\"accuracy\"])\n",
    "    return model"
   ]
  },
  {
   "cell_type": "code",
   "execution_count": 26,
   "metadata": {},
   "outputs": [
    {
     "name": "stdout",
     "output_type": "stream",
     "text": [
      "INFO:tensorflow:Reloading Oracle from existing project tuning_log\\untitled_project\\oracle.json\n"
     ]
    },
    {
     "name": "stdout",
     "output_type": "stream",
     "text": [
      "184/938 [====>.........................] - ETA: 0s - loss: 2.3124 - accuracy: 0.06 - ETA: 4:23 - loss: 2.2987 - accuracy: 0.07 - ETA: 5:56 - loss: 2.2881 - accuracy: 0.11 - ETA: 6:45 - loss: 2.2871 - accuracy: 0.10 - ETA: 7:09 - loss: 2.2848 - accuracy: 0.09 - ETA: 7:26 - loss: 2.2773 - accuracy: 0.10 - ETA: 7:43 - loss: 2.2683 - accuracy: 0.12 - ETA: 7:51 - loss: 2.2619 - accuracy: 0.14 - ETA: 7:56 - loss: 2.2506 - accuracy: 0.16 - ETA: 8:03 - loss: 2.2393 - accuracy: 0.16 - ETA: 8:11 - loss: 2.2225 - accuracy: 0.17 - ETA: 8:11 - loss: 2.2143 - accuracy: 0.18 - ETA: 8:13 - loss: 2.2110 - accuracy: 0.18 - ETA: 8:16 - loss: 2.2051 - accuracy: 0.18 - ETA: 8:18 - loss: 2.1919 - accuracy: 0.20 - ETA: 8:17 - loss: 2.1820 - accuracy: 0.20 - ETA: 8:22 - loss: 2.1643 - accuracy: 0.22 - ETA: 8:26 - loss: 2.1506 - accuracy: 0.23 - ETA: 8:38 - loss: 2.1322 - accuracy: 0.24 - ETA: 8:45 - loss: 2.1138 - accuracy: 0.25 - ETA: 9:05 - loss: 2.0971 - accuracy: 0.25 - ETA: 9:08 - loss: 2.0789 - accuracy: 0.26 - ETA: 9:07 - loss: 2.0560 - accuracy: 0.27 - ETA: 9:05 - loss: 2.0408 - accuracy: 0.27 - ETA: 9:02 - loss: 2.0206 - accuracy: 0.27 - ETA: 8:59 - loss: 2.0039 - accuracy: 0.28 - ETA: 8:57 - loss: 1.9880 - accuracy: 0.29 - ETA: 8:53 - loss: 1.9689 - accuracy: 0.29 - ETA: 8:49 - loss: 1.9468 - accuracy: 0.30 - ETA: 8:45 - loss: 1.9243 - accuracy: 0.31 - ETA: 8:40 - loss: 1.8995 - accuracy: 0.33 - ETA: 8:36 - loss: 1.8817 - accuracy: 0.33 - ETA: 8:31 - loss: 1.8625 - accuracy: 0.34 - ETA: 8:27 - loss: 1.8433 - accuracy: 0.35 - ETA: 8:23 - loss: 1.8250 - accuracy: 0.35 - ETA: 8:20 - loss: 1.8128 - accuracy: 0.36 - ETA: 8:16 - loss: 1.7957 - accuracy: 0.36 - ETA: 8:13 - loss: 1.7752 - accuracy: 0.37 - ETA: 8:10 - loss: 1.7562 - accuracy: 0.38 - ETA: 8:07 - loss: 1.7354 - accuracy: 0.38 - ETA: 8:04 - loss: 1.7159 - accuracy: 0.39 - ETA: 8:01 - loss: 1.7001 - accuracy: 0.40 - ETA: 7:59 - loss: 1.6827 - accuracy: 0.40 - ETA: 7:56 - loss: 1.6686 - accuracy: 0.41 - ETA: 7:54 - loss: 1.6516 - accuracy: 0.41 - ETA: 7:52 - loss: 1.6365 - accuracy: 0.42 - ETA: 7:49 - loss: 1.6231 - accuracy: 0.42 - ETA: 7:47 - loss: 1.6123 - accuracy: 0.42 - ETA: 7:45 - loss: 1.6002 - accuracy: 0.43 - ETA: 7:43 - loss: 1.5837 - accuracy: 0.43 - ETA: 7:41 - loss: 1.5702 - accuracy: 0.44 - ETA: 7:39 - loss: 1.5599 - accuracy: 0.44 - ETA: 7:38 - loss: 1.5516 - accuracy: 0.44 - ETA: 7:36 - loss: 1.5364 - accuracy: 0.45 - ETA: 7:34 - loss: 1.5285 - accuracy: 0.45 - ETA: 7:32 - loss: 1.5175 - accuracy: 0.45 - ETA: 7:31 - loss: 1.5055 - accuracy: 0.46 - ETA: 7:29 - loss: 1.4974 - accuracy: 0.46 - ETA: 7:28 - loss: 1.4876 - accuracy: 0.47 - ETA: 7:26 - loss: 1.4793 - accuracy: 0.47 - ETA: 7:25 - loss: 1.4730 - accuracy: 0.47 - ETA: 7:23 - loss: 1.4608 - accuracy: 0.47 - ETA: 7:22 - loss: 1.4538 - accuracy: 0.48 - ETA: 7:21 - loss: 1.4437 - accuracy: 0.48 - ETA: 7:19 - loss: 1.4346 - accuracy: 0.48 - ETA: 7:18 - loss: 1.4272 - accuracy: 0.49 - ETA: 7:17 - loss: 1.4177 - accuracy: 0.49 - ETA: 7:16 - loss: 1.4098 - accuracy: 0.49 - ETA: 7:14 - loss: 1.4014 - accuracy: 0.50 - ETA: 7:13 - loss: 1.3928 - accuracy: 0.50 - ETA: 7:12 - loss: 1.3835 - accuracy: 0.50 - ETA: 7:11 - loss: 1.3751 - accuracy: 0.51 - ETA: 7:10 - loss: 1.3662 - accuracy: 0.51 - ETA: 7:09 - loss: 1.3595 - accuracy: 0.51 - ETA: 7:08 - loss: 1.3509 - accuracy: 0.51 - ETA: 7:07 - loss: 1.3451 - accuracy: 0.52 - ETA: 7:06 - loss: 1.3376 - accuracy: 0.52 - ETA: 7:04 - loss: 1.3331 - accuracy: 0.52 - ETA: 7:03 - loss: 1.3290 - accuracy: 0.52 - ETA: 7:03 - loss: 1.3228 - accuracy: 0.52 - ETA: 7:02 - loss: 1.3145 - accuracy: 0.53 - ETA: 7:01 - loss: 1.3090 - accuracy: 0.53 - ETA: 7:00 - loss: 1.2993 - accuracy: 0.53 - ETA: 6:59 - loss: 1.2940 - accuracy: 0.53 - ETA: 6:58 - loss: 1.2889 - accuracy: 0.54 - ETA: 6:57 - loss: 1.2830 - accuracy: 0.54 - ETA: 6:56 - loss: 1.2780 - accuracy: 0.54 - ETA: 6:55 - loss: 1.2730 - accuracy: 0.54 - ETA: 6:54 - loss: 1.2676 - accuracy: 0.54 - ETA: 6:53 - loss: 1.2618 - accuracy: 0.55 - ETA: 6:53 - loss: 1.2545 - accuracy: 0.55 - ETA: 6:52 - loss: 1.2494 - accuracy: 0.55 - ETA: 6:51 - loss: 1.2450 - accuracy: 0.55 - ETA: 6:50 - loss: 1.2377 - accuracy: 0.56 - ETA: 6:50 - loss: 1.2315 - accuracy: 0.56 - ETA: 6:49 - loss: 1.2259 - accuracy: 0.56 - ETA: 6:48 - loss: 1.2234 - accuracy: 0.56 - ETA: 6:47 - loss: 1.2189 - accuracy: 0.56 - ETA: 6:46 - loss: 1.2143 - accuracy: 0.56 - ETA: 6:45 - loss: 1.2090 - accuracy: 0.56 - ETA: 6:44 - loss: 1.2029 - accuracy: 0.57 - ETA: 6:44 - loss: 1.1984 - accuracy: 0.57 - ETA: 6:43 - loss: 1.1924 - accuracy: 0.57 - ETA: 6:42 - loss: 1.1878 - accuracy: 0.57 - ETA: 6:41 - loss: 1.1836 - accuracy: 0.57 - ETA: 6:40 - loss: 1.1798 - accuracy: 0.57 - ETA: 6:40 - loss: 1.1748 - accuracy: 0.58 - ETA: 6:39 - loss: 1.1706 - accuracy: 0.58 - ETA: 6:38 - loss: 1.1665 - accuracy: 0.58 - ETA: 6:37 - loss: 1.1613 - accuracy: 0.58 - ETA: 6:37 - loss: 1.1586 - accuracy: 0.58 - ETA: 6:36 - loss: 1.1541 - accuracy: 0.58 - ETA: 6:35 - loss: 1.1510 - accuracy: 0.58 - ETA: 6:34 - loss: 1.1468 - accuracy: 0.59 - ETA: 6:33 - loss: 1.1429 - accuracy: 0.59 - ETA: 6:33 - loss: 1.1393 - accuracy: 0.59 - ETA: 6:33 - loss: 1.1363 - accuracy: 0.59 - ETA: 6:32 - loss: 1.1331 - accuracy: 0.59 - ETA: 6:31 - loss: 1.1289 - accuracy: 0.59 - ETA: 6:30 - loss: 1.1262 - accuracy: 0.59 - ETA: 6:30 - loss: 1.1236 - accuracy: 0.59 - ETA: 6:29 - loss: 1.1205 - accuracy: 0.59 - ETA: 6:28 - loss: 1.1157 - accuracy: 0.60 - ETA: 6:28 - loss: 1.1127 - accuracy: 0.60 - ETA: 6:27 - loss: 1.1077 - accuracy: 0.60 - ETA: 6:27 - loss: 1.1053 - accuracy: 0.60 - ETA: 6:26 - loss: 1.1042 - accuracy: 0.60 - ETA: 6:26 - loss: 1.1012 - accuracy: 0.60 - ETA: 6:25 - loss: 1.1014 - accuracy: 0.60 - ETA: 6:24 - loss: 1.0974 - accuracy: 0.60 - ETA: 6:24 - loss: 1.0949 - accuracy: 0.60 - ETA: 6:23 - loss: 1.0906 - accuracy: 0.61 - ETA: 6:22 - loss: 1.0874 - accuracy: 0.61 - ETA: 6:22 - loss: 1.0852 - accuracy: 0.61 - ETA: 6:21 - loss: 1.0809 - accuracy: 0.61 - ETA: 6:20 - loss: 1.0776 - accuracy: 0.61 - ETA: 6:20 - loss: 1.0741 - accuracy: 0.61 - ETA: 6:19 - loss: 1.0711 - accuracy: 0.61 - ETA: 6:18 - loss: 1.0679 - accuracy: 0.61 - ETA: 6:18 - loss: 1.0664 - accuracy: 0.61 - ETA: 6:17 - loss: 1.0628 - accuracy: 0.61 - ETA: 6:16 - loss: 1.0603 - accuracy: 0.61 - ETA: 6:16 - loss: 1.0577 - accuracy: 0.61 - ETA: 6:15 - loss: 1.0544 - accuracy: 0.62 - ETA: 6:14 - loss: 1.0526 - accuracy: 0.62 - ETA: 6:14 - loss: 1.0516 - accuracy: 0.62 - ETA: 6:13 - loss: 1.0495 - accuracy: 0.62 - ETA: 6:12 - loss: 1.0492 - accuracy: 0.62 - ETA: 6:12 - loss: 1.0461 - accuracy: 0.62 - ETA: 6:11 - loss: 1.0421 - accuracy: 0.62 - ETA: 6:11 - loss: 1.0403 - accuracy: 0.62 - ETA: 6:10 - loss: 1.0381 - accuracy: 0.62 - ETA: 6:10 - loss: 1.0361 - accuracy: 0.62 - ETA: 6:09 - loss: 1.0347 - accuracy: 0.62 - ETA: 6:08 - loss: 1.0326 - accuracy: 0.62 - ETA: 6:08 - loss: 1.0301 - accuracy: 0.62 - ETA: 6:07 - loss: 1.0274 - accuracy: 0.63 - ETA: 6:06 - loss: 1.0245 - accuracy: 0.63 - ETA: 6:06 - loss: 1.0220 - accuracy: 0.63 - ETA: 6:05 - loss: 1.0204 - accuracy: 0.63 - ETA: 6:05 - loss: 1.0179 - accuracy: 0.63 - ETA: 6:04 - loss: 1.0162 - accuracy: 0.63 - ETA: 6:04 - loss: 1.0131 - accuracy: 0.63 - ETA: 6:03 - loss: 1.0107 - accuracy: 0.63 - ETA: 6:02 - loss: 1.0099 - accuracy: 0.63 - ETA: 6:02 - loss: 1.0076 - accuracy: 0.63 - ETA: 6:01 - loss: 1.0041 - accuracy: 0.63 - ETA: 6:00 - loss: 1.0020 - accuracy: 0.64 - ETA: 6:00 - loss: 1.0005 - accuracy: 0.64 - ETA: 5:59 - loss: 0.9993 - accuracy: 0.64 - ETA: 5:59 - loss: 1.0004 - accuracy: 0.64 - ETA: 5:58 - loss: 0.9979 - accuracy: 0.64 - ETA: 5:58 - loss: 0.9950 - accuracy: 0.64 - ETA: 5:57 - loss: 0.9929 - accuracy: 0.64 - ETA: 5:57 - loss: 0.9912 - accuracy: 0.64 - ETA: 5:56 - loss: 0.9886 - accuracy: 0.64 - ETA: 5:55 - loss: 0.9874 - accuracy: 0.64 - ETA: 5:55 - loss: 0.9866 - accuracy: 0.64 - ETA: 5:55 - loss: 0.9847 - accuracy: 0.64 - ETA: 5:54 - loss: 0.9828 - accuracy: 0.64 - ETA: 5:54 - loss: 0.9804 - accuracy: 0.64 - ETA: 5:54 - loss: 0.9778 - accuracy: 0.64 - ETA: 5:53 - loss: 0.9761 - accuracy: 0.64 - ETA: 5:53 - loss: 0.9751 - accuracy: 0.6499\b\b\b\b\b\b\b\b\b\b\b\b\b\b\b\b\b\b\b\b\b\b\b\b\b\b\b\b\b\b\b\b\b\b\b\b\b\b\b\b\b\b\b\b\b\b\b\b\b\b\b\b\b\b\b\b\b\b\b\b\b\b\b\b\b\b\b\b\b\b\b\b\b\b\b\b\b\b\b\b\b\b\b\b\b\b"
     ]
    },
    {
     "name": "stdout",
     "output_type": "stream",
     "text": [
      "370/938 [==========>...................] - ETA: 5:52 - loss: 0.9740 - accuracy: 0.65 - ETA: 5:52 - loss: 0.9720 - accuracy: 0.65 - ETA: 5:51 - loss: 0.9698 - accuracy: 0.65 - ETA: 5:51 - loss: 0.9688 - accuracy: 0.65 - ETA: 5:50 - loss: 0.9660 - accuracy: 0.65 - ETA: 5:49 - loss: 0.9639 - accuracy: 0.65 - ETA: 5:49 - loss: 0.9627 - accuracy: 0.65 - ETA: 5:48 - loss: 0.9611 - accuracy: 0.65 - ETA: 5:48 - loss: 0.9599 - accuracy: 0.65 - ETA: 5:47 - loss: 0.9581 - accuracy: 0.65 - ETA: 5:46 - loss: 0.9556 - accuracy: 0.65 - ETA: 5:46 - loss: 0.9537 - accuracy: 0.65 - ETA: 5:45 - loss: 0.9516 - accuracy: 0.65 - ETA: 5:45 - loss: 0.9502 - accuracy: 0.65 - ETA: 5:44 - loss: 0.9481 - accuracy: 0.65 - ETA: 5:44 - loss: 0.9464 - accuracy: 0.66 - ETA: 5:43 - loss: 0.9448 - accuracy: 0.66 - ETA: 5:42 - loss: 0.9433 - accuracy: 0.66 - ETA: 5:42 - loss: 0.9421 - accuracy: 0.66 - ETA: 5:41 - loss: 0.9407 - accuracy: 0.66 - ETA: 5:41 - loss: 0.9384 - accuracy: 0.66 - ETA: 5:40 - loss: 0.9363 - accuracy: 0.66 - ETA: 5:39 - loss: 0.9349 - accuracy: 0.66 - ETA: 5:39 - loss: 0.9334 - accuracy: 0.66 - ETA: 5:38 - loss: 0.9316 - accuracy: 0.66 - ETA: 5:38 - loss: 0.9299 - accuracy: 0.66 - ETA: 5:37 - loss: 0.9289 - accuracy: 0.66 - ETA: 5:37 - loss: 0.9278 - accuracy: 0.66 - ETA: 5:36 - loss: 0.9258 - accuracy: 0.66 - ETA: 5:35 - loss: 0.9241 - accuracy: 0.66 - ETA: 5:35 - loss: 0.9228 - accuracy: 0.66 - ETA: 5:34 - loss: 0.9207 - accuracy: 0.66 - ETA: 5:34 - loss: 0.9195 - accuracy: 0.66 - ETA: 5:33 - loss: 0.9190 - accuracy: 0.66 - ETA: 5:33 - loss: 0.9173 - accuracy: 0.67 - ETA: 5:32 - loss: 0.9164 - accuracy: 0.67 - ETA: 5:32 - loss: 0.9155 - accuracy: 0.67 - ETA: 5:31 - loss: 0.9143 - accuracy: 0.67 - ETA: 5:30 - loss: 0.9135 - accuracy: 0.67 - ETA: 5:30 - loss: 0.9124 - accuracy: 0.67 - ETA: 5:29 - loss: 0.9110 - accuracy: 0.67 - ETA: 5:29 - loss: 0.9093 - accuracy: 0.67 - ETA: 5:28 - loss: 0.9084 - accuracy: 0.67 - ETA: 5:28 - loss: 0.9074 - accuracy: 0.67 - ETA: 5:27 - loss: 0.9071 - accuracy: 0.67 - ETA: 5:27 - loss: 0.9053 - accuracy: 0.67 - ETA: 5:26 - loss: 0.9034 - accuracy: 0.67 - ETA: 5:26 - loss: 0.9019 - accuracy: 0.67 - ETA: 5:25 - loss: 0.9010 - accuracy: 0.67 - ETA: 5:25 - loss: 0.8997 - accuracy: 0.67 - ETA: 5:24 - loss: 0.8982 - accuracy: 0.67 - ETA: 5:24 - loss: 0.8964 - accuracy: 0.67 - ETA: 5:23 - loss: 0.8950 - accuracy: 0.67 - ETA: 5:23 - loss: 0.8932 - accuracy: 0.67 - ETA: 5:22 - loss: 0.8916 - accuracy: 0.67 - ETA: 5:22 - loss: 0.8909 - accuracy: 0.67 - ETA: 5:21 - loss: 0.8903 - accuracy: 0.67 - ETA: 5:21 - loss: 0.8889 - accuracy: 0.68 - ETA: 5:20 - loss: 0.8881 - accuracy: 0.68 - ETA: 5:19 - loss: 0.8866 - accuracy: 0.68 - ETA: 5:19 - loss: 0.8851 - accuracy: 0.68 - ETA: 5:18 - loss: 0.8844 - accuracy: 0.68 - ETA: 5:18 - loss: 0.8827 - accuracy: 0.68 - ETA: 5:17 - loss: 0.8819 - accuracy: 0.68 - ETA: 5:17 - loss: 0.8805 - accuracy: 0.68 - ETA: 5:16 - loss: 0.8793 - accuracy: 0.68 - ETA: 5:16 - loss: 0.8793 - accuracy: 0.68 - ETA: 5:15 - loss: 0.8788 - accuracy: 0.68 - ETA: 5:15 - loss: 0.8778 - accuracy: 0.68 - ETA: 5:14 - loss: 0.8762 - accuracy: 0.68 - ETA: 5:14 - loss: 0.8754 - accuracy: 0.68 - ETA: 5:13 - loss: 0.8740 - accuracy: 0.68 - ETA: 5:13 - loss: 0.8735 - accuracy: 0.68 - ETA: 5:12 - loss: 0.8728 - accuracy: 0.68 - ETA: 5:12 - loss: 0.8723 - accuracy: 0.68 - ETA: 5:11 - loss: 0.8715 - accuracy: 0.68 - ETA: 5:11 - loss: 0.8699 - accuracy: 0.68 - ETA: 5:10 - loss: 0.8698 - accuracy: 0.68 - ETA: 5:10 - loss: 0.8686 - accuracy: 0.68 - ETA: 5:09 - loss: 0.8676 - accuracy: 0.68 - ETA: 5:09 - loss: 0.8663 - accuracy: 0.68 - ETA: 5:08 - loss: 0.8653 - accuracy: 0.68 - ETA: 5:08 - loss: 0.8646 - accuracy: 0.68 - ETA: 5:07 - loss: 0.8650 - accuracy: 0.68 - ETA: 5:07 - loss: 0.8640 - accuracy: 0.68 - ETA: 5:06 - loss: 0.8633 - accuracy: 0.68 - ETA: 5:06 - loss: 0.8629 - accuracy: 0.68 - ETA: 5:05 - loss: 0.8617 - accuracy: 0.68 - ETA: 5:05 - loss: 0.8610 - accuracy: 0.68 - ETA: 5:04 - loss: 0.8597 - accuracy: 0.69 - ETA: 5:04 - loss: 0.8586 - accuracy: 0.69 - ETA: 5:03 - loss: 0.8580 - accuracy: 0.69 - ETA: 5:03 - loss: 0.8568 - accuracy: 0.69 - ETA: 5:02 - loss: 0.8556 - accuracy: 0.69 - ETA: 5:02 - loss: 0.8549 - accuracy: 0.69 - ETA: 5:01 - loss: 0.8543 - accuracy: 0.69 - ETA: 5:01 - loss: 0.8535 - accuracy: 0.69 - ETA: 5:00 - loss: 0.8524 - accuracy: 0.69 - ETA: 5:00 - loss: 0.8516 - accuracy: 0.69 - ETA: 5:00 - loss: 0.8507 - accuracy: 0.69 - ETA: 4:59 - loss: 0.8494 - accuracy: 0.69 - ETA: 4:58 - loss: 0.8487 - accuracy: 0.69 - ETA: 4:58 - loss: 0.8474 - accuracy: 0.69 - ETA: 4:58 - loss: 0.8468 - accuracy: 0.69 - ETA: 4:57 - loss: 0.8455 - accuracy: 0.69 - ETA: 4:56 - loss: 0.8440 - accuracy: 0.69 - ETA: 4:56 - loss: 0.8430 - accuracy: 0.69 - ETA: 4:56 - loss: 0.8426 - accuracy: 0.69 - ETA: 4:55 - loss: 0.8419 - accuracy: 0.69 - ETA: 4:55 - loss: 0.8411 - accuracy: 0.69 - ETA: 4:54 - loss: 0.8404 - accuracy: 0.69 - ETA: 4:54 - loss: 0.8397 - accuracy: 0.69 - ETA: 4:53 - loss: 0.8389 - accuracy: 0.69 - ETA: 4:53 - loss: 0.8380 - accuracy: 0.69 - ETA: 4:52 - loss: 0.8367 - accuracy: 0.69 - ETA: 4:52 - loss: 0.8368 - accuracy: 0.69 - ETA: 4:51 - loss: 0.8359 - accuracy: 0.69 - ETA: 4:51 - loss: 0.8359 - accuracy: 0.69 - ETA: 4:50 - loss: 0.8348 - accuracy: 0.69 - ETA: 4:50 - loss: 0.8345 - accuracy: 0.69 - ETA: 4:49 - loss: 0.8336 - accuracy: 0.69 - ETA: 4:49 - loss: 0.8329 - accuracy: 0.69 - ETA: 4:48 - loss: 0.8321 - accuracy: 0.70 - ETA: 4:48 - loss: 0.8318 - accuracy: 0.69 - ETA: 4:47 - loss: 0.8311 - accuracy: 0.70 - ETA: 4:47 - loss: 0.8299 - accuracy: 0.70 - ETA: 4:46 - loss: 0.8293 - accuracy: 0.70 - ETA: 4:46 - loss: 0.8284 - accuracy: 0.70 - ETA: 4:45 - loss: 0.8276 - accuracy: 0.70 - ETA: 4:45 - loss: 0.8276 - accuracy: 0.70 - ETA: 4:44 - loss: 0.8273 - accuracy: 0.70 - ETA: 4:44 - loss: 0.8263 - accuracy: 0.70 - ETA: 4:43 - loss: 0.8258 - accuracy: 0.70 - ETA: 4:43 - loss: 0.8259 - accuracy: 0.70 - ETA: 4:43 - loss: 0.8255 - accuracy: 0.70 - ETA: 4:42 - loss: 0.8241 - accuracy: 0.70 - ETA: 4:42 - loss: 0.8236 - accuracy: 0.70 - ETA: 4:41 - loss: 0.8225 - accuracy: 0.70 - ETA: 4:41 - loss: 0.8217 - accuracy: 0.70 - ETA: 4:40 - loss: 0.8213 - accuracy: 0.70 - ETA: 4:40 - loss: 0.8205 - accuracy: 0.70 - ETA: 4:39 - loss: 0.8194 - accuracy: 0.70 - ETA: 4:39 - loss: 0.8189 - accuracy: 0.70 - ETA: 4:38 - loss: 0.8186 - accuracy: 0.70 - ETA: 4:38 - loss: 0.8179 - accuracy: 0.70 - ETA: 4:37 - loss: 0.8167 - accuracy: 0.70 - ETA: 4:37 - loss: 0.8160 - accuracy: 0.70 - ETA: 4:36 - loss: 0.8156 - accuracy: 0.70 - ETA: 4:36 - loss: 0.8149 - accuracy: 0.70 - ETA: 4:35 - loss: 0.8138 - accuracy: 0.70 - ETA: 4:35 - loss: 0.8130 - accuracy: 0.70 - ETA: 4:34 - loss: 0.8120 - accuracy: 0.70 - ETA: 4:34 - loss: 0.8122 - accuracy: 0.70 - ETA: 4:33 - loss: 0.8115 - accuracy: 0.70 - ETA: 4:33 - loss: 0.8114 - accuracy: 0.70 - ETA: 4:32 - loss: 0.8106 - accuracy: 0.70 - ETA: 4:33 - loss: 0.8095 - accuracy: 0.70 - ETA: 4:32 - loss: 0.8090 - accuracy: 0.70 - ETA: 4:32 - loss: 0.8084 - accuracy: 0.70 - ETA: 4:32 - loss: 0.8075 - accuracy: 0.70 - ETA: 4:32 - loss: 0.8065 - accuracy: 0.70 - ETA: 4:31 - loss: 0.8060 - accuracy: 0.70 - ETA: 4:31 - loss: 0.8051 - accuracy: 0.70 - ETA: 4:31 - loss: 0.8044 - accuracy: 0.70 - ETA: 4:30 - loss: 0.8037 - accuracy: 0.70 - ETA: 4:30 - loss: 0.8031 - accuracy: 0.70 - ETA: 4:29 - loss: 0.8024 - accuracy: 0.71 - ETA: 4:29 - loss: 0.8019 - accuracy: 0.71 - ETA: 4:29 - loss: 0.8010 - accuracy: 0.71 - ETA: 4:28 - loss: 0.8000 - accuracy: 0.71 - ETA: 4:28 - loss: 0.7995 - accuracy: 0.71 - ETA: 4:27 - loss: 0.7988 - accuracy: 0.71 - ETA: 4:27 - loss: 0.7983 - accuracy: 0.71 - ETA: 4:26 - loss: 0.7974 - accuracy: 0.71 - ETA: 4:26 - loss: 0.7963 - accuracy: 0.71 - ETA: 4:25 - loss: 0.7955 - accuracy: 0.71 - ETA: 4:25 - loss: 0.7957 - accuracy: 0.71 - ETA: 4:24 - loss: 0.7946 - accuracy: 0.71 - ETA: 4:24 - loss: 0.7941 - accuracy: 0.71 - ETA: 4:23 - loss: 0.7936 - accuracy: 0.71 - ETA: 4:23 - loss: 0.7928 - accuracy: 0.71 - ETA: 4:22 - loss: 0.7923 - accuracy: 0.71 - ETA: 4:22 - loss: 0.7915 - accuracy: 0.71 - ETA: 4:22 - loss: 0.7907 - accuracy: 0.71 - ETA: 4:21 - loss: 0.7897 - accuracy: 0.71 - ETA: 4:21 - loss: 0.7888 - accuracy: 0.7148"
     ]
    },
    {
     "name": "stdout",
     "output_type": "stream",
     "text": [
      "556/938 [================>.............] - ETA: 4:20 - loss: 0.7882 - accuracy: 0.71 - ETA: 4:20 - loss: 0.7876 - accuracy: 0.71 - ETA: 4:19 - loss: 0.7875 - accuracy: 0.71 - ETA: 4:19 - loss: 0.7878 - accuracy: 0.71 - ETA: 4:18 - loss: 0.7879 - accuracy: 0.71 - ETA: 4:18 - loss: 0.7876 - accuracy: 0.71 - ETA: 4:17 - loss: 0.7873 - accuracy: 0.71 - ETA: 4:17 - loss: 0.7866 - accuracy: 0.71 - ETA: 4:16 - loss: 0.7859 - accuracy: 0.71 - ETA: 4:16 - loss: 0.7854 - accuracy: 0.71 - ETA: 4:15 - loss: 0.7853 - accuracy: 0.71 - ETA: 4:15 - loss: 0.7846 - accuracy: 0.71 - ETA: 4:14 - loss: 0.7842 - accuracy: 0.71 - ETA: 4:14 - loss: 0.7840 - accuracy: 0.71 - ETA: 4:13 - loss: 0.7830 - accuracy: 0.71 - ETA: 4:13 - loss: 0.7823 - accuracy: 0.71 - ETA: 4:12 - loss: 0.7815 - accuracy: 0.71 - ETA: 4:12 - loss: 0.7813 - accuracy: 0.71 - ETA: 4:11 - loss: 0.7809 - accuracy: 0.71 - ETA: 4:11 - loss: 0.7806 - accuracy: 0.71 - ETA: 4:11 - loss: 0.7799 - accuracy: 0.71 - ETA: 4:10 - loss: 0.7796 - accuracy: 0.71 - ETA: 4:10 - loss: 0.7787 - accuracy: 0.71 - ETA: 4:09 - loss: 0.7777 - accuracy: 0.71 - ETA: 4:09 - loss: 0.7774 - accuracy: 0.71 - ETA: 4:08 - loss: 0.7765 - accuracy: 0.71 - ETA: 4:08 - loss: 0.7765 - accuracy: 0.71 - ETA: 4:07 - loss: 0.7759 - accuracy: 0.71 - ETA: 4:07 - loss: 0.7753 - accuracy: 0.71 - ETA: 4:06 - loss: 0.7747 - accuracy: 0.71 - ETA: 4:06 - loss: 0.7740 - accuracy: 0.72 - ETA: 4:05 - loss: 0.7739 - accuracy: 0.72 - ETA: 4:05 - loss: 0.7736 - accuracy: 0.72 - ETA: 4:04 - loss: 0.7731 - accuracy: 0.72 - ETA: 4:04 - loss: 0.7724 - accuracy: 0.72 - ETA: 4:03 - loss: 0.7719 - accuracy: 0.72 - ETA: 4:03 - loss: 0.7717 - accuracy: 0.72 - ETA: 4:02 - loss: 0.7716 - accuracy: 0.72 - ETA: 4:02 - loss: 0.7711 - accuracy: 0.72 - ETA: 4:01 - loss: 0.7707 - accuracy: 0.72 - ETA: 4:01 - loss: 0.7701 - accuracy: 0.72 - ETA: 4:00 - loss: 0.7698 - accuracy: 0.72 - ETA: 4:00 - loss: 0.7694 - accuracy: 0.72 - ETA: 3:59 - loss: 0.7688 - accuracy: 0.72 - ETA: 3:59 - loss: 0.7682 - accuracy: 0.72 - ETA: 3:59 - loss: 0.7673 - accuracy: 0.72 - ETA: 3:58 - loss: 0.7667 - accuracy: 0.72 - ETA: 3:58 - loss: 0.7660 - accuracy: 0.72 - ETA: 3:57 - loss: 0.7653 - accuracy: 0.72 - ETA: 3:57 - loss: 0.7649 - accuracy: 0.72 - ETA: 3:56 - loss: 0.7642 - accuracy: 0.72 - ETA: 3:56 - loss: 0.7636 - accuracy: 0.72 - ETA: 3:55 - loss: 0.7630 - accuracy: 0.72 - ETA: 3:55 - loss: 0.7628 - accuracy: 0.72 - ETA: 3:54 - loss: 0.7621 - accuracy: 0.72 - ETA: 3:54 - loss: 0.7620 - accuracy: 0.72 - ETA: 3:53 - loss: 0.7615 - accuracy: 0.72 - ETA: 3:53 - loss: 0.7612 - accuracy: 0.72 - ETA: 3:52 - loss: 0.7610 - accuracy: 0.72 - ETA: 3:52 - loss: 0.7602 - accuracy: 0.72 - ETA: 3:51 - loss: 0.7600 - accuracy: 0.72 - ETA: 3:51 - loss: 0.7593 - accuracy: 0.72 - ETA: 3:51 - loss: 0.7586 - accuracy: 0.72 - ETA: 3:50 - loss: 0.7588 - accuracy: 0.72 - ETA: 3:50 - loss: 0.7584 - accuracy: 0.72 - ETA: 3:49 - loss: 0.7581 - accuracy: 0.72 - ETA: 3:49 - loss: 0.7579 - accuracy: 0.72 - ETA: 3:48 - loss: 0.7575 - accuracy: 0.72 - ETA: 3:48 - loss: 0.7569 - accuracy: 0.72 - ETA: 3:47 - loss: 0.7562 - accuracy: 0.72 - ETA: 3:47 - loss: 0.7560 - accuracy: 0.72 - ETA: 3:46 - loss: 0.7552 - accuracy: 0.72 - ETA: 3:46 - loss: 0.7546 - accuracy: 0.72 - ETA: 3:45 - loss: 0.7541 - accuracy: 0.72 - ETA: 3:45 - loss: 0.7539 - accuracy: 0.72 - ETA: 3:44 - loss: 0.7535 - accuracy: 0.72 - ETA: 3:44 - loss: 0.7531 - accuracy: 0.72 - ETA: 3:44 - loss: 0.7530 - accuracy: 0.72 - ETA: 3:43 - loss: 0.7521 - accuracy: 0.72 - ETA: 3:43 - loss: 0.7521 - accuracy: 0.72 - ETA: 3:42 - loss: 0.7517 - accuracy: 0.72 - ETA: 3:42 - loss: 0.7517 - accuracy: 0.72 - ETA: 3:41 - loss: 0.7513 - accuracy: 0.72 - ETA: 3:41 - loss: 0.7506 - accuracy: 0.72 - ETA: 3:40 - loss: 0.7500 - accuracy: 0.72 - ETA: 3:40 - loss: 0.7493 - accuracy: 0.72 - ETA: 3:40 - loss: 0.7488 - accuracy: 0.72 - ETA: 3:39 - loss: 0.7482 - accuracy: 0.72 - ETA: 3:39 - loss: 0.7476 - accuracy: 0.72 - ETA: 3:38 - loss: 0.7477 - accuracy: 0.72 - ETA: 3:38 - loss: 0.7469 - accuracy: 0.72 - ETA: 3:37 - loss: 0.7463 - accuracy: 0.72 - ETA: 3:37 - loss: 0.7459 - accuracy: 0.73 - ETA: 3:36 - loss: 0.7453 - accuracy: 0.73 - ETA: 3:36 - loss: 0.7448 - accuracy: 0.73 - ETA: 3:35 - loss: 0.7444 - accuracy: 0.73 - ETA: 3:35 - loss: 0.7441 - accuracy: 0.73 - ETA: 3:34 - loss: 0.7434 - accuracy: 0.73 - ETA: 3:34 - loss: 0.7428 - accuracy: 0.73 - ETA: 3:33 - loss: 0.7424 - accuracy: 0.73 - ETA: 3:33 - loss: 0.7417 - accuracy: 0.73 - ETA: 3:33 - loss: 0.7409 - accuracy: 0.73 - ETA: 3:32 - loss: 0.7404 - accuracy: 0.73 - ETA: 3:32 - loss: 0.7398 - accuracy: 0.73 - ETA: 3:31 - loss: 0.7396 - accuracy: 0.73 - ETA: 3:31 - loss: 0.7389 - accuracy: 0.73 - ETA: 3:30 - loss: 0.7385 - accuracy: 0.73 - ETA: 3:30 - loss: 0.7381 - accuracy: 0.73 - ETA: 3:29 - loss: 0.7382 - accuracy: 0.73 - ETA: 3:29 - loss: 0.7378 - accuracy: 0.73 - ETA: 3:28 - loss: 0.7375 - accuracy: 0.73 - ETA: 3:28 - loss: 0.7372 - accuracy: 0.73 - ETA: 3:28 - loss: 0.7367 - accuracy: 0.73 - ETA: 3:27 - loss: 0.7365 - accuracy: 0.73 - ETA: 3:27 - loss: 0.7361 - accuracy: 0.73 - ETA: 3:26 - loss: 0.7356 - accuracy: 0.73 - ETA: 3:26 - loss: 0.7353 - accuracy: 0.73 - ETA: 3:25 - loss: 0.7346 - accuracy: 0.73 - ETA: 3:25 - loss: 0.7344 - accuracy: 0.73 - ETA: 3:24 - loss: 0.7340 - accuracy: 0.73 - ETA: 3:24 - loss: 0.7336 - accuracy: 0.73 - ETA: 3:23 - loss: 0.7329 - accuracy: 0.73 - ETA: 3:23 - loss: 0.7324 - accuracy: 0.73 - ETA: 3:23 - loss: 0.7322 - accuracy: 0.73 - ETA: 3:22 - loss: 0.7318 - accuracy: 0.73 - ETA: 3:22 - loss: 0.7315 - accuracy: 0.73 - ETA: 3:21 - loss: 0.7312 - accuracy: 0.73 - ETA: 3:21 - loss: 0.7307 - accuracy: 0.73 - ETA: 3:20 - loss: 0.7309 - accuracy: 0.73 - ETA: 3:20 - loss: 0.7304 - accuracy: 0.73 - ETA: 3:19 - loss: 0.7295 - accuracy: 0.73 - ETA: 3:19 - loss: 0.7292 - accuracy: 0.73 - ETA: 3:18 - loss: 0.7290 - accuracy: 0.73 - ETA: 3:18 - loss: 0.7290 - accuracy: 0.73 - ETA: 3:18 - loss: 0.7284 - accuracy: 0.73 - ETA: 3:17 - loss: 0.7282 - accuracy: 0.73 - ETA: 3:17 - loss: 0.7279 - accuracy: 0.73 - ETA: 3:16 - loss: 0.7274 - accuracy: 0.73 - ETA: 3:16 - loss: 0.7269 - accuracy: 0.73 - ETA: 3:15 - loss: 0.7266 - accuracy: 0.73 - ETA: 3:15 - loss: 0.7263 - accuracy: 0.73 - ETA: 3:14 - loss: 0.7257 - accuracy: 0.73 - ETA: 3:14 - loss: 0.7250 - accuracy: 0.73 - ETA: 3:13 - loss: 0.7248 - accuracy: 0.73 - ETA: 3:13 - loss: 0.7247 - accuracy: 0.73 - ETA: 3:13 - loss: 0.7244 - accuracy: 0.73 - ETA: 3:12 - loss: 0.7238 - accuracy: 0.73 - ETA: 3:12 - loss: 0.7237 - accuracy: 0.73 - ETA: 3:11 - loss: 0.7232 - accuracy: 0.73 - ETA: 3:11 - loss: 0.7228 - accuracy: 0.73 - ETA: 3:10 - loss: 0.7224 - accuracy: 0.73 - ETA: 3:10 - loss: 0.7221 - accuracy: 0.73 - ETA: 3:09 - loss: 0.7213 - accuracy: 0.73 - ETA: 3:09 - loss: 0.7210 - accuracy: 0.73 - ETA: 3:08 - loss: 0.7209 - accuracy: 0.73 - ETA: 3:08 - loss: 0.7206 - accuracy: 0.73 - ETA: 3:08 - loss: 0.7205 - accuracy: 0.73 - ETA: 3:07 - loss: 0.7201 - accuracy: 0.73 - ETA: 3:07 - loss: 0.7200 - accuracy: 0.73 - ETA: 3:06 - loss: 0.7196 - accuracy: 0.73 - ETA: 3:06 - loss: 0.7195 - accuracy: 0.73 - ETA: 3:05 - loss: 0.7190 - accuracy: 0.73 - ETA: 3:05 - loss: 0.7188 - accuracy: 0.73 - ETA: 3:04 - loss: 0.7181 - accuracy: 0.74 - ETA: 3:04 - loss: 0.7178 - accuracy: 0.74 - ETA: 3:04 - loss: 0.7174 - accuracy: 0.74 - ETA: 3:03 - loss: 0.7169 - accuracy: 0.74 - ETA: 3:03 - loss: 0.7166 - accuracy: 0.74 - ETA: 3:02 - loss: 0.7161 - accuracy: 0.74 - ETA: 3:02 - loss: 0.7157 - accuracy: 0.74 - ETA: 3:01 - loss: 0.7152 - accuracy: 0.74 - ETA: 3:01 - loss: 0.7146 - accuracy: 0.74 - ETA: 3:01 - loss: 0.7144 - accuracy: 0.74 - ETA: 3:00 - loss: 0.7139 - accuracy: 0.74 - ETA: 3:00 - loss: 0.7135 - accuracy: 0.74 - ETA: 2:59 - loss: 0.7132 - accuracy: 0.74 - ETA: 2:59 - loss: 0.7130 - accuracy: 0.74 - ETA: 2:58 - loss: 0.7126 - accuracy: 0.74 - ETA: 2:58 - loss: 0.7122 - accuracy: 0.74 - ETA: 2:57 - loss: 0.7119 - accuracy: 0.74 - ETA: 2:57 - loss: 0.7114 - accuracy: 0.74 - ETA: 2:56 - loss: 0.7110 - accuracy: 0.74 - ETA: 2:56 - loss: 0.7110 - accuracy: 0.74 - ETA: 2:55 - loss: 0.7103 - accuracy: 0.74 - ETA: 2:55 - loss: 0.7100 - accuracy: 0.74 - ETA: 2:55 - loss: 0.7097 - accuracy: 0.7426"
     ]
    },
    {
     "name": "stdout",
     "output_type": "stream",
     "text": [
      "742/938 [======================>.......] - ETA: 2:54 - loss: 0.7094 - accuracy: 0.74 - ETA: 2:54 - loss: 0.7091 - accuracy: 0.74 - ETA: 2:53 - loss: 0.7086 - accuracy: 0.74 - ETA: 2:53 - loss: 0.7082 - accuracy: 0.74 - ETA: 2:52 - loss: 0.7081 - accuracy: 0.74 - ETA: 2:52 - loss: 0.7079 - accuracy: 0.74 - ETA: 2:51 - loss: 0.7077 - accuracy: 0.74 - ETA: 2:51 - loss: 0.7073 - accuracy: 0.74 - ETA: 2:50 - loss: 0.7067 - accuracy: 0.74 - ETA: 2:50 - loss: 0.7062 - accuracy: 0.74 - ETA: 2:49 - loss: 0.7058 - accuracy: 0.74 - ETA: 2:49 - loss: 0.7050 - accuracy: 0.74 - ETA: 2:49 - loss: 0.7045 - accuracy: 0.74 - ETA: 2:48 - loss: 0.7042 - accuracy: 0.74 - ETA: 2:48 - loss: 0.7039 - accuracy: 0.74 - ETA: 2:47 - loss: 0.7035 - accuracy: 0.74 - ETA: 2:47 - loss: 0.7032 - accuracy: 0.74 - ETA: 2:46 - loss: 0.7027 - accuracy: 0.74 - ETA: 2:46 - loss: 0.7023 - accuracy: 0.74 - ETA: 2:45 - loss: 0.7019 - accuracy: 0.74 - ETA: 2:45 - loss: 0.7015 - accuracy: 0.74 - ETA: 2:44 - loss: 0.7017 - accuracy: 0.74 - ETA: 2:44 - loss: 0.7010 - accuracy: 0.74 - ETA: 2:43 - loss: 0.7007 - accuracy: 0.74 - ETA: 2:43 - loss: 0.7003 - accuracy: 0.74 - ETA: 2:42 - loss: 0.7002 - accuracy: 0.74 - ETA: 2:42 - loss: 0.6998 - accuracy: 0.74 - ETA: 2:42 - loss: 0.6996 - accuracy: 0.74 - ETA: 2:41 - loss: 0.6991 - accuracy: 0.74 - ETA: 2:41 - loss: 0.6991 - accuracy: 0.74 - ETA: 2:40 - loss: 0.6986 - accuracy: 0.74 - ETA: 2:40 - loss: 0.6979 - accuracy: 0.74 - ETA: 2:39 - loss: 0.6977 - accuracy: 0.74 - ETA: 2:39 - loss: 0.6972 - accuracy: 0.74 - ETA: 2:38 - loss: 0.6965 - accuracy: 0.74 - ETA: 2:38 - loss: 0.6963 - accuracy: 0.74 - ETA: 2:37 - loss: 0.6956 - accuracy: 0.74 - ETA: 2:37 - loss: 0.6953 - accuracy: 0.74 - ETA: 2:36 - loss: 0.6950 - accuracy: 0.74 - ETA: 2:36 - loss: 0.6945 - accuracy: 0.74 - ETA: 2:35 - loss: 0.6941 - accuracy: 0.74 - ETA: 2:35 - loss: 0.6938 - accuracy: 0.74 - ETA: 2:35 - loss: 0.6936 - accuracy: 0.74 - ETA: 2:34 - loss: 0.6934 - accuracy: 0.74 - ETA: 2:34 - loss: 0.6931 - accuracy: 0.74 - ETA: 2:33 - loss: 0.6930 - accuracy: 0.74 - ETA: 2:33 - loss: 0.6928 - accuracy: 0.74 - ETA: 2:32 - loss: 0.6924 - accuracy: 0.74 - ETA: 2:32 - loss: 0.6921 - accuracy: 0.74 - ETA: 2:31 - loss: 0.6921 - accuracy: 0.74 - ETA: 2:31 - loss: 0.6920 - accuracy: 0.74 - ETA: 2:30 - loss: 0.6914 - accuracy: 0.74 - ETA: 2:30 - loss: 0.6914 - accuracy: 0.74 - ETA: 2:29 - loss: 0.6910 - accuracy: 0.74 - ETA: 2:29 - loss: 0.6908 - accuracy: 0.74 - ETA: 2:28 - loss: 0.6905 - accuracy: 0.74 - ETA: 2:28 - loss: 0.6900 - accuracy: 0.74 - ETA: 2:27 - loss: 0.6897 - accuracy: 0.74 - ETA: 2:27 - loss: 0.6893 - accuracy: 0.74 - ETA: 2:27 - loss: 0.6889 - accuracy: 0.74 - ETA: 2:26 - loss: 0.6888 - accuracy: 0.74 - ETA: 2:26 - loss: 0.6886 - accuracy: 0.74 - ETA: 2:25 - loss: 0.6883 - accuracy: 0.75 - ETA: 2:25 - loss: 0.6878 - accuracy: 0.75 - ETA: 2:24 - loss: 0.6875 - accuracy: 0.75 - ETA: 2:24 - loss: 0.6871 - accuracy: 0.75 - ETA: 2:23 - loss: 0.6867 - accuracy: 0.75 - ETA: 2:23 - loss: 0.6860 - accuracy: 0.75 - ETA: 2:22 - loss: 0.6857 - accuracy: 0.75 - ETA: 2:22 - loss: 0.6858 - accuracy: 0.75 - ETA: 2:21 - loss: 0.6855 - accuracy: 0.75 - ETA: 2:21 - loss: 0.6850 - accuracy: 0.75 - ETA: 2:20 - loss: 0.6845 - accuracy: 0.75 - ETA: 2:20 - loss: 0.6841 - accuracy: 0.75 - ETA: 2:20 - loss: 0.6838 - accuracy: 0.75 - ETA: 2:19 - loss: 0.6837 - accuracy: 0.75 - ETA: 2:19 - loss: 0.6836 - accuracy: 0.75 - ETA: 2:18 - loss: 0.6832 - accuracy: 0.75 - ETA: 2:18 - loss: 0.6833 - accuracy: 0.75 - ETA: 2:17 - loss: 0.6832 - accuracy: 0.75 - ETA: 2:17 - loss: 0.6829 - accuracy: 0.75 - ETA: 2:16 - loss: 0.6825 - accuracy: 0.75 - ETA: 2:16 - loss: 0.6822 - accuracy: 0.75 - ETA: 2:15 - loss: 0.6820 - accuracy: 0.75 - ETA: 2:15 - loss: 0.6817 - accuracy: 0.75 - ETA: 2:15 - loss: 0.6816 - accuracy: 0.75 - ETA: 2:14 - loss: 0.6812 - accuracy: 0.75 - ETA: 2:14 - loss: 0.6807 - accuracy: 0.75 - ETA: 2:13 - loss: 0.6804 - accuracy: 0.75 - ETA: 2:13 - loss: 0.6801 - accuracy: 0.75 - ETA: 2:12 - loss: 0.6798 - accuracy: 0.75 - ETA: 2:12 - loss: 0.6796 - accuracy: 0.75 - ETA: 2:12 - loss: 0.6791 - accuracy: 0.75 - ETA: 2:11 - loss: 0.6788 - accuracy: 0.75 - ETA: 2:11 - loss: 0.6788 - accuracy: 0.75 - ETA: 2:10 - loss: 0.6787 - accuracy: 0.75 - ETA: 2:10 - loss: 0.6787 - accuracy: 0.75 - ETA: 2:09 - loss: 0.6783 - accuracy: 0.75 - ETA: 2:09 - loss: 0.6780 - accuracy: 0.75 - ETA: 2:08 - loss: 0.6776 - accuracy: 0.75 - ETA: 2:08 - loss: 0.6774 - accuracy: 0.75 - ETA: 2:07 - loss: 0.6770 - accuracy: 0.75 - ETA: 2:07 - loss: 0.6771 - accuracy: 0.75 - ETA: 2:07 - loss: 0.6766 - accuracy: 0.75 - ETA: 2:06 - loss: 0.6763 - accuracy: 0.75 - ETA: 2:06 - loss: 0.6760 - accuracy: 0.75 - ETA: 2:05 - loss: 0.6755 - accuracy: 0.75 - ETA: 2:05 - loss: 0.6751 - accuracy: 0.75 - ETA: 2:04 - loss: 0.6746 - accuracy: 0.75 - ETA: 2:04 - loss: 0.6745 - accuracy: 0.75 - ETA: 2:03 - loss: 0.6744 - accuracy: 0.75 - ETA: 2:03 - loss: 0.6743 - accuracy: 0.75 - ETA: 2:02 - loss: 0.6738 - accuracy: 0.75 - ETA: 2:02 - loss: 0.6736 - accuracy: 0.75 - ETA: 2:01 - loss: 0.6732 - accuracy: 0.75 - ETA: 2:01 - loss: 0.6727 - accuracy: 0.75 - ETA: 2:01 - loss: 0.6726 - accuracy: 0.75 - ETA: 2:00 - loss: 0.6722 - accuracy: 0.75 - ETA: 2:00 - loss: 0.6721 - accuracy: 0.75 - ETA: 1:59 - loss: 0.6721 - accuracy: 0.75 - ETA: 1:59 - loss: 0.6718 - accuracy: 0.75 - ETA: 1:58 - loss: 0.6714 - accuracy: 0.75 - ETA: 1:58 - loss: 0.6715 - accuracy: 0.75 - ETA: 1:57 - loss: 0.6716 - accuracy: 0.75 - ETA: 1:57 - loss: 0.6714 - accuracy: 0.75 - ETA: 1:56 - loss: 0.6711 - accuracy: 0.75 - ETA: 1:56 - loss: 0.6707 - accuracy: 0.75 - ETA: 1:55 - loss: 0.6703 - accuracy: 0.75 - ETA: 1:55 - loss: 0.6703 - accuracy: 0.75 - ETA: 1:55 - loss: 0.6699 - accuracy: 0.75 - ETA: 1:54 - loss: 0.6696 - accuracy: 0.75 - ETA: 1:54 - loss: 0.6693 - accuracy: 0.75 - ETA: 1:53 - loss: 0.6689 - accuracy: 0.75 - ETA: 1:53 - loss: 0.6686 - accuracy: 0.75 - ETA: 1:52 - loss: 0.6684 - accuracy: 0.75 - ETA: 1:52 - loss: 0.6686 - accuracy: 0.75 - ETA: 1:51 - loss: 0.6684 - accuracy: 0.75 - ETA: 1:51 - loss: 0.6680 - accuracy: 0.75 - ETA: 1:50 - loss: 0.6676 - accuracy: 0.75 - ETA: 1:50 - loss: 0.6674 - accuracy: 0.75 - ETA: 1:49 - loss: 0.6671 - accuracy: 0.75 - ETA: 1:49 - loss: 0.6666 - accuracy: 0.75 - ETA: 1:49 - loss: 0.6661 - accuracy: 0.75 - ETA: 1:48 - loss: 0.6659 - accuracy: 0.75 - ETA: 1:48 - loss: 0.6655 - accuracy: 0.75 - ETA: 1:47 - loss: 0.6654 - accuracy: 0.75 - ETA: 1:47 - loss: 0.6650 - accuracy: 0.75 - ETA: 1:46 - loss: 0.6650 - accuracy: 0.75 - ETA: 1:46 - loss: 0.6646 - accuracy: 0.75 - ETA: 1:45 - loss: 0.6644 - accuracy: 0.75 - ETA: 1:45 - loss: 0.6642 - accuracy: 0.75 - ETA: 1:44 - loss: 0.6639 - accuracy: 0.75 - ETA: 1:44 - loss: 0.6636 - accuracy: 0.75 - ETA: 1:44 - loss: 0.6634 - accuracy: 0.75 - ETA: 1:43 - loss: 0.6631 - accuracy: 0.75 - ETA: 1:43 - loss: 0.6627 - accuracy: 0.75 - ETA: 1:42 - loss: 0.6625 - accuracy: 0.75 - ETA: 1:42 - loss: 0.6624 - accuracy: 0.75 - ETA: 1:41 - loss: 0.6621 - accuracy: 0.75 - ETA: 1:41 - loss: 0.6619 - accuracy: 0.75 - ETA: 1:40 - loss: 0.6616 - accuracy: 0.75 - ETA: 1:40 - loss: 0.6611 - accuracy: 0.75 - ETA: 1:39 - loss: 0.6610 - accuracy: 0.75 - ETA: 1:39 - loss: 0.6606 - accuracy: 0.76 - ETA: 1:39 - loss: 0.6606 - accuracy: 0.76 - ETA: 1:38 - loss: 0.6604 - accuracy: 0.76 - ETA: 1:38 - loss: 0.6605 - accuracy: 0.76 - ETA: 1:37 - loss: 0.6605 - accuracy: 0.76 - ETA: 1:37 - loss: 0.6602 - accuracy: 0.76 - ETA: 1:36 - loss: 0.6599 - accuracy: 0.76 - ETA: 1:36 - loss: 0.6597 - accuracy: 0.76 - ETA: 1:35 - loss: 0.6594 - accuracy: 0.76 - ETA: 1:35 - loss: 0.6591 - accuracy: 0.76 - ETA: 1:34 - loss: 0.6588 - accuracy: 0.76 - ETA: 1:34 - loss: 0.6585 - accuracy: 0.76 - ETA: 1:33 - loss: 0.6584 - accuracy: 0.76 - ETA: 1:33 - loss: 0.6582 - accuracy: 0.76 - ETA: 1:33 - loss: 0.6578 - accuracy: 0.76 - ETA: 1:32 - loss: 0.6575 - accuracy: 0.76 - ETA: 1:32 - loss: 0.6573 - accuracy: 0.76 - ETA: 1:31 - loss: 0.6570 - accuracy: 0.76 - ETA: 1:31 - loss: 0.6566 - accuracy: 0.76 - ETA: 1:30 - loss: 0.6561 - accuracy: 0.76 - ETA: 1:30 - loss: 0.6559 - accuracy: 0.76 - ETA: 1:29 - loss: 0.6556 - accuracy: 0.76 - ETA: 1:29 - loss: 0.6552 - accuracy: 0.7620"
     ]
    },
    {
     "name": "stdout",
     "output_type": "stream",
     "text": [
      "928/938 [============================>.] - ETA: 1:28 - loss: 0.6547 - accuracy: 0.76 - ETA: 1:28 - loss: 0.6544 - accuracy: 0.76 - ETA: 1:28 - loss: 0.6543 - accuracy: 0.76 - ETA: 1:27 - loss: 0.6540 - accuracy: 0.76 - ETA: 1:27 - loss: 0.6537 - accuracy: 0.76 - ETA: 1:26 - loss: 0.6535 - accuracy: 0.76 - ETA: 1:26 - loss: 0.6533 - accuracy: 0.76 - ETA: 1:25 - loss: 0.6531 - accuracy: 0.76 - ETA: 1:25 - loss: 0.6528 - accuracy: 0.76 - ETA: 1:24 - loss: 0.6528 - accuracy: 0.76 - ETA: 1:24 - loss: 0.6526 - accuracy: 0.76 - ETA: 1:23 - loss: 0.6523 - accuracy: 0.76 - ETA: 1:23 - loss: 0.6520 - accuracy: 0.76 - ETA: 1:22 - loss: 0.6515 - accuracy: 0.76 - ETA: 1:22 - loss: 0.6511 - accuracy: 0.76 - ETA: 1:22 - loss: 0.6509 - accuracy: 0.76 - ETA: 1:21 - loss: 0.6504 - accuracy: 0.76 - ETA: 1:21 - loss: 0.6502 - accuracy: 0.76 - ETA: 1:20 - loss: 0.6497 - accuracy: 0.76 - ETA: 1:20 - loss: 0.6495 - accuracy: 0.76 - ETA: 1:19 - loss: 0.6495 - accuracy: 0.76 - ETA: 1:19 - loss: 0.6492 - accuracy: 0.76 - ETA: 1:18 - loss: 0.6491 - accuracy: 0.76 - ETA: 1:18 - loss: 0.6489 - accuracy: 0.76 - ETA: 1:17 - loss: 0.6489 - accuracy: 0.76 - ETA: 1:17 - loss: 0.6486 - accuracy: 0.76 - ETA: 1:17 - loss: 0.6483 - accuracy: 0.76 - ETA: 1:16 - loss: 0.6480 - accuracy: 0.76 - ETA: 1:16 - loss: 0.6478 - accuracy: 0.76 - ETA: 1:15 - loss: 0.6475 - accuracy: 0.76 - ETA: 1:15 - loss: 0.6472 - accuracy: 0.76 - ETA: 1:14 - loss: 0.6471 - accuracy: 0.76 - ETA: 1:14 - loss: 0.6468 - accuracy: 0.76 - ETA: 1:13 - loss: 0.6467 - accuracy: 0.76 - ETA: 1:13 - loss: 0.6465 - accuracy: 0.76 - ETA: 1:12 - loss: 0.6467 - accuracy: 0.76 - ETA: 1:12 - loss: 0.6464 - accuracy: 0.76 - ETA: 1:11 - loss: 0.6460 - accuracy: 0.76 - ETA: 1:11 - loss: 0.6458 - accuracy: 0.76 - ETA: 1:11 - loss: 0.6455 - accuracy: 0.76 - ETA: 1:10 - loss: 0.6454 - accuracy: 0.76 - ETA: 1:10 - loss: 0.6451 - accuracy: 0.76 - ETA: 1:09 - loss: 0.6450 - accuracy: 0.76 - ETA: 1:09 - loss: 0.6447 - accuracy: 0.76 - ETA: 1:08 - loss: 0.6446 - accuracy: 0.76 - ETA: 1:08 - loss: 0.6445 - accuracy: 0.76 - ETA: 1:07 - loss: 0.6443 - accuracy: 0.76 - ETA: 1:07 - loss: 0.6441 - accuracy: 0.76 - ETA: 1:06 - loss: 0.6439 - accuracy: 0.76 - ETA: 1:06 - loss: 0.6436 - accuracy: 0.76 - ETA: 1:06 - loss: 0.6434 - accuracy: 0.76 - ETA: 1:05 - loss: 0.6434 - accuracy: 0.76 - ETA: 1:05 - loss: 0.6433 - accuracy: 0.76 - ETA: 1:04 - loss: 0.6433 - accuracy: 0.76 - ETA: 1:04 - loss: 0.6432 - accuracy: 0.76 - ETA: 1:03 - loss: 0.6432 - accuracy: 0.76 - ETA: 1:03 - loss: 0.6428 - accuracy: 0.76 - ETA: 1:02 - loss: 0.6431 - accuracy: 0.76 - ETA: 1:02 - loss: 0.6427 - accuracy: 0.76 - ETA: 1:01 - loss: 0.6425 - accuracy: 0.76 - ETA: 1:01 - loss: 0.6424 - accuracy: 0.76 - ETA: 1:00 - loss: 0.6421 - accuracy: 0.76 - ETA: 1:00 - loss: 0.6418 - accuracy: 0.76 - ETA: 1:00 - loss: 0.6418 - accuracy: 0.76 - ETA: 59s - loss: 0.6417 - accuracy: 0.7675 - ETA: 59s - loss: 0.6416 - accuracy: 0.767 - ETA: 58s - loss: 0.6414 - accuracy: 0.767 - ETA: 58s - loss: 0.6412 - accuracy: 0.767 - ETA: 57s - loss: 0.6410 - accuracy: 0.767 - ETA: 57s - loss: 0.6407 - accuracy: 0.767 - ETA: 56s - loss: 0.6404 - accuracy: 0.768 - ETA: 56s - loss: 0.6402 - accuracy: 0.768 - ETA: 55s - loss: 0.6400 - accuracy: 0.768 - ETA: 55s - loss: 0.6399 - accuracy: 0.768 - ETA: 55s - loss: 0.6396 - accuracy: 0.768 - ETA: 54s - loss: 0.6395 - accuracy: 0.768 - ETA: 54s - loss: 0.6393 - accuracy: 0.768 - ETA: 53s - loss: 0.6392 - accuracy: 0.768 - ETA: 53s - loss: 0.6390 - accuracy: 0.768 - ETA: 52s - loss: 0.6387 - accuracy: 0.768 - ETA: 52s - loss: 0.6384 - accuracy: 0.768 - ETA: 51s - loss: 0.6382 - accuracy: 0.768 - ETA: 51s - loss: 0.6381 - accuracy: 0.768 - ETA: 50s - loss: 0.6379 - accuracy: 0.768 - ETA: 50s - loss: 0.6381 - accuracy: 0.768 - ETA: 50s - loss: 0.6379 - accuracy: 0.768 - ETA: 49s - loss: 0.6376 - accuracy: 0.769 - ETA: 49s - loss: 0.6374 - accuracy: 0.768 - ETA: 48s - loss: 0.6372 - accuracy: 0.769 - ETA: 48s - loss: 0.6371 - accuracy: 0.769 - ETA: 47s - loss: 0.6369 - accuracy: 0.769 - ETA: 47s - loss: 0.6368 - accuracy: 0.769 - ETA: 46s - loss: 0.6365 - accuracy: 0.769 - ETA: 46s - loss: 0.6367 - accuracy: 0.769 - ETA: 45s - loss: 0.6364 - accuracy: 0.769 - ETA: 45s - loss: 0.6362 - accuracy: 0.769 - ETA: 45s - loss: 0.6360 - accuracy: 0.769 - ETA: 44s - loss: 0.6356 - accuracy: 0.769 - ETA: 44s - loss: 0.6356 - accuracy: 0.769 - ETA: 43s - loss: 0.6354 - accuracy: 0.769 - ETA: 43s - loss: 0.6353 - accuracy: 0.769 - ETA: 42s - loss: 0.6350 - accuracy: 0.769 - ETA: 42s - loss: 0.6349 - accuracy: 0.769 - ETA: 41s - loss: 0.6348 - accuracy: 0.769 - ETA: 41s - loss: 0.6346 - accuracy: 0.770 - ETA: 40s - loss: 0.6344 - accuracy: 0.770 - ETA: 40s - loss: 0.6343 - accuracy: 0.770 - ETA: 40s - loss: 0.6339 - accuracy: 0.770 - ETA: 39s - loss: 0.6337 - accuracy: 0.770 - ETA: 39s - loss: 0.6335 - accuracy: 0.770 - ETA: 38s - loss: 0.6337 - accuracy: 0.770 - ETA: 38s - loss: 0.6335 - accuracy: 0.770 - ETA: 37s - loss: 0.6334 - accuracy: 0.770 - ETA: 37s - loss: 0.6331 - accuracy: 0.770 - ETA: 36s - loss: 0.6328 - accuracy: 0.770 - ETA: 36s - loss: 0.6327 - accuracy: 0.770 - ETA: 35s - loss: 0.6323 - accuracy: 0.770 - ETA: 35s - loss: 0.6321 - accuracy: 0.770 - ETA: 34s - loss: 0.6320 - accuracy: 0.771 - ETA: 34s - loss: 0.6318 - accuracy: 0.771 - ETA: 34s - loss: 0.6315 - accuracy: 0.771 - ETA: 33s - loss: 0.6314 - accuracy: 0.771 - ETA: 33s - loss: 0.6313 - accuracy: 0.771 - ETA: 32s - loss: 0.6309 - accuracy: 0.771 - ETA: 32s - loss: 0.6309 - accuracy: 0.771 - ETA: 31s - loss: 0.6306 - accuracy: 0.771 - ETA: 31s - loss: 0.6306 - accuracy: 0.771 - ETA: 30s - loss: 0.6305 - accuracy: 0.771 - ETA: 30s - loss: 0.6305 - accuracy: 0.771 - ETA: 29s - loss: 0.6304 - accuracy: 0.771 - ETA: 29s - loss: 0.6301 - accuracy: 0.771 - ETA: 29s - loss: 0.6299 - accuracy: 0.771 - ETA: 28s - loss: 0.6296 - accuracy: 0.771 - ETA: 28s - loss: 0.6294 - accuracy: 0.772 - ETA: 27s - loss: 0.6292 - accuracy: 0.772 - ETA: 27s - loss: 0.6289 - accuracy: 0.772 - ETA: 26s - loss: 0.6286 - accuracy: 0.772 - ETA: 26s - loss: 0.6288 - accuracy: 0.772 - ETA: 25s - loss: 0.6288 - accuracy: 0.772 - ETA: 25s - loss: 0.6285 - accuracy: 0.772 - ETA: 24s - loss: 0.6284 - accuracy: 0.772 - ETA: 24s - loss: 0.6283 - accuracy: 0.772 - ETA: 24s - loss: 0.6282 - accuracy: 0.772 - ETA: 23s - loss: 0.6282 - accuracy: 0.772 - ETA: 23s - loss: 0.6280 - accuracy: 0.772 - ETA: 22s - loss: 0.6278 - accuracy: 0.772 - ETA: 22s - loss: 0.6279 - accuracy: 0.772 - ETA: 21s - loss: 0.6277 - accuracy: 0.772 - ETA: 21s - loss: 0.6274 - accuracy: 0.772 - ETA: 20s - loss: 0.6273 - accuracy: 0.772 - ETA: 20s - loss: 0.6272 - accuracy: 0.772 - ETA: 19s - loss: 0.6272 - accuracy: 0.772 - ETA: 19s - loss: 0.6269 - accuracy: 0.772 - ETA: 19s - loss: 0.6269 - accuracy: 0.772 - ETA: 18s - loss: 0.6266 - accuracy: 0.772 - ETA: 18s - loss: 0.6263 - accuracy: 0.772 - ETA: 17s - loss: 0.6261 - accuracy: 0.773 - ETA: 17s - loss: 0.6259 - accuracy: 0.773 - ETA: 16s - loss: 0.6261 - accuracy: 0.773 - ETA: 16s - loss: 0.6259 - accuracy: 0.773 - ETA: 15s - loss: 0.6260 - accuracy: 0.773 - ETA: 15s - loss: 0.6257 - accuracy: 0.773 - ETA: 14s - loss: 0.6257 - accuracy: 0.773 - ETA: 14s - loss: 0.6256 - accuracy: 0.773 - ETA: 14s - loss: 0.6253 - accuracy: 0.773 - ETA: 13s - loss: 0.6251 - accuracy: 0.773 - ETA: 13s - loss: 0.6250 - accuracy: 0.773 - ETA: 12s - loss: 0.6248 - accuracy: 0.773 - ETA: 12s - loss: 0.6246 - accuracy: 0.773 - ETA: 11s - loss: 0.6243 - accuracy: 0.773 - ETA: 11s - loss: 0.6241 - accuracy: 0.773 - ETA: 10s - loss: 0.6241 - accuracy: 0.773 - ETA: 10s - loss: 0.6240 - accuracy: 0.773 - ETA: 9s - loss: 0.6238 - accuracy: 0.773 - ETA: 9s - loss: 0.6237 - accuracy: 0.77 - ETA: 9s - loss: 0.6235 - accuracy: 0.77 - ETA: 8s - loss: 0.6232 - accuracy: 0.77 - ETA: 8s - loss: 0.6231 - accuracy: 0.77 - ETA: 7s - loss: 0.6230 - accuracy: 0.77 - ETA: 7s - loss: 0.6229 - accuracy: 0.77 - ETA: 6s - loss: 0.6227 - accuracy: 0.77 - ETA: 6s - loss: 0.6225 - accuracy: 0.77 - ETA: 5s - loss: 0.6223 - accuracy: 0.77 - ETA: 5s - loss: 0.6221 - accuracy: 0.77 - ETA: 4s - loss: 0.6218 - accuracy: 0.77 - ETA: 4s - loss: 0.6216 - accuracy: 0.7746"
     ]
    },
    {
     "name": "stdout",
     "output_type": "stream",
     "text": [
      "938/938 [==============================] - ETA: 4s - loss: 0.6214 - accuracy: 0.77 - ETA: 3s - loss: 0.6212 - accuracy: 0.77 - ETA: 3s - loss: 0.6210 - accuracy: 0.77 - ETA: 2s - loss: 0.6206 - accuracy: 0.77 - ETA: 2s - loss: 0.6204 - accuracy: 0.77 - ETA: 1s - loss: 0.6203 - accuracy: 0.77 - ETA: 1s - loss: 0.6200 - accuracy: 0.77 - ETA: 0s - loss: 0.6201 - accuracy: 0.77 - ETA: 0s - loss: 0.6201 - accuracy: 0.77 - ETA: 0s - loss: 0.6200 - accuracy: 0.77 - 447s 477ms/step - loss: 0.6200 - accuracy: 0.7753 - val_loss: 0.4764 - val_accuracy: 0.8307\n"
     ]
    },
    {
     "data": {
      "text/html": [
       "<span style=\"color:#4527A0\"><h1 style=\"font-size:18px\">Trial complete</h1></span>"
      ],
      "text/plain": [
       "<IPython.core.display.HTML object>"
      ]
     },
     "metadata": {},
     "output_type": "display_data"
    },
    {
     "data": {
      "text/html": [
       "<span style=\"color:#4527A0\"><h1 style=\"font-size:18px\">Trial summary</h1></span>"
      ],
      "text/plain": [
       "<IPython.core.display.HTML object>"
      ]
     },
     "metadata": {},
     "output_type": "display_data"
    },
    {
     "data": {
      "text/html": [
       "<span style=\"color:cyan\"> |-Trial ID: 177eb3f1ec8e28e35cffc3efe7872262</span>"
      ],
      "text/plain": [
       "<IPython.core.display.HTML object>"
      ]
     },
     "metadata": {},
     "output_type": "display_data"
    },
    {
     "data": {
      "text/html": [
       "<span style=\"color:cyan\"> |-Score: 0.8306999802589417</span>"
      ],
      "text/plain": [
       "<IPython.core.display.HTML object>"
      ]
     },
     "metadata": {},
     "output_type": "display_data"
    },
    {
     "data": {
      "text/html": [
       "<span style=\"color:cyan\"> |-Best step: 0</span>"
      ],
      "text/plain": [
       "<IPython.core.display.HTML object>"
      ]
     },
     "metadata": {},
     "output_type": "display_data"
    },
    {
     "data": {
      "text/html": [
       "<span style=\"color:#7E57C2\"><h2 style=\"font-size:16px\">Hyperparameters:</h2></span>"
      ],
      "text/plain": [
       "<IPython.core.display.HTML object>"
      ]
     },
     "metadata": {},
     "output_type": "display_data"
    },
    {
     "data": {
      "text/html": [
       "<span style=\"color:cyan\"> |-c2_layer_n: 2</span>"
      ],
      "text/plain": [
       "<IPython.core.display.HTML object>"
      ]
     },
     "metadata": {},
     "output_type": "display_data"
    },
    {
     "data": {
      "text/html": [
       "<span style=\"color:blue\"> |-conv2_with_0_units: 128</span>"
      ],
      "text/plain": [
       "<IPython.core.display.HTML object>"
      ]
     },
     "metadata": {},
     "output_type": "display_data"
    },
    {
     "data": {
      "text/html": [
       "<span style=\"color:cyan\"> |-conv2_with_1_units: 32</span>"
      ],
      "text/plain": [
       "<IPython.core.display.HTML object>"
      ]
     },
     "metadata": {},
     "output_type": "display_data"
    },
    {
     "data": {
      "text/html": [
       "<span style=\"color:blue\"> |-input: 64</span>"
      ],
      "text/plain": [
       "<IPython.core.display.HTML object>"
      ]
     },
     "metadata": {},
     "output_type": "display_data"
    },
    {
     "name": "stdout",
     "output_type": "stream",
     "text": [
      "186/938 [====>.........................] - ETA: 0s - loss: 2.2946 - accuracy: 0.12 - ETA: 2:11 - loss: 2.2942 - accuracy: 0.09 - ETA: 2:52 - loss: 2.2861 - accuracy: 0.11 - ETA: 3:11 - loss: 2.2854 - accuracy: 0.09 - ETA: 3:20 - loss: 2.2785 - accuracy: 0.11 - ETA: 3:34 - loss: 2.2725 - accuracy: 0.13 - ETA: 3:40 - loss: 2.2705 - accuracy: 0.14 - ETA: 3:46 - loss: 2.2695 - accuracy: 0.15 - ETA: 3:49 - loss: 2.2632 - accuracy: 0.16 - ETA: 3:54 - loss: 2.2541 - accuracy: 0.17 - ETA: 3:57 - loss: 2.2464 - accuracy: 0.18 - ETA: 4:00 - loss: 2.2382 - accuracy: 0.19 - ETA: 4:03 - loss: 2.2310 - accuracy: 0.20 - ETA: 4:01 - loss: 2.2227 - accuracy: 0.21 - ETA: 4:04 - loss: 2.2099 - accuracy: 0.24 - ETA: 4:05 - loss: 2.1966 - accuracy: 0.25 - ETA: 4:07 - loss: 2.1825 - accuracy: 0.26 - ETA: 4:07 - loss: 2.1701 - accuracy: 0.27 - ETA: 4:07 - loss: 2.1553 - accuracy: 0.28 - ETA: 4:08 - loss: 2.1371 - accuracy: 0.29 - ETA: 4:08 - loss: 2.1188 - accuracy: 0.30 - ETA: 4:07 - loss: 2.0989 - accuracy: 0.31 - ETA: 4:07 - loss: 2.0736 - accuracy: 0.32 - ETA: 4:10 - loss: 2.0568 - accuracy: 0.32 - ETA: 4:12 - loss: 2.0356 - accuracy: 0.33 - ETA: 4:12 - loss: 2.0141 - accuracy: 0.34 - ETA: 4:13 - loss: 1.9930 - accuracy: 0.34 - ETA: 4:12 - loss: 1.9709 - accuracy: 0.35 - ETA: 4:14 - loss: 1.9501 - accuracy: 0.36 - ETA: 4:14 - loss: 1.9253 - accuracy: 0.36 - ETA: 4:14 - loss: 1.9047 - accuracy: 0.37 - ETA: 4:13 - loss: 1.8924 - accuracy: 0.37 - ETA: 4:13 - loss: 1.8774 - accuracy: 0.37 - ETA: 4:12 - loss: 1.8588 - accuracy: 0.37 - ETA: 4:13 - loss: 1.8456 - accuracy: 0.37 - ETA: 4:15 - loss: 1.8241 - accuracy: 0.38 - ETA: 4:15 - loss: 1.8150 - accuracy: 0.38 - ETA: 4:15 - loss: 1.7983 - accuracy: 0.39 - ETA: 4:14 - loss: 1.7823 - accuracy: 0.39 - ETA: 4:15 - loss: 1.7672 - accuracy: 0.39 - ETA: 4:14 - loss: 1.7517 - accuracy: 0.40 - ETA: 4:13 - loss: 1.7432 - accuracy: 0.40 - ETA: 4:13 - loss: 1.7310 - accuracy: 0.40 - ETA: 4:13 - loss: 1.7168 - accuracy: 0.40 - ETA: 4:12 - loss: 1.7028 - accuracy: 0.41 - ETA: 4:12 - loss: 1.6882 - accuracy: 0.41 - ETA: 4:11 - loss: 1.6757 - accuracy: 0.41 - ETA: 4:11 - loss: 1.6648 - accuracy: 0.41 - ETA: 4:12 - loss: 1.6558 - accuracy: 0.42 - ETA: 4:11 - loss: 1.6441 - accuracy: 0.42 - ETA: 4:11 - loss: 1.6267 - accuracy: 0.43 - ETA: 4:10 - loss: 1.6103 - accuracy: 0.43 - ETA: 4:11 - loss: 1.5995 - accuracy: 0.43 - ETA: 4:11 - loss: 1.5909 - accuracy: 0.44 - ETA: 4:11 - loss: 1.5806 - accuracy: 0.44 - ETA: 4:10 - loss: 1.5704 - accuracy: 0.45 - ETA: 4:10 - loss: 1.5629 - accuracy: 0.45 - ETA: 4:10 - loss: 1.5550 - accuracy: 0.45 - ETA: 4:11 - loss: 1.5419 - accuracy: 0.45 - ETA: 4:11 - loss: 1.5289 - accuracy: 0.46 - ETA: 4:11 - loss: 1.5205 - accuracy: 0.46 - ETA: 4:12 - loss: 1.5142 - accuracy: 0.46 - ETA: 4:12 - loss: 1.5057 - accuracy: 0.47 - ETA: 4:13 - loss: 1.4979 - accuracy: 0.47 - ETA: 4:13 - loss: 1.4917 - accuracy: 0.47 - ETA: 4:13 - loss: 1.4798 - accuracy: 0.48 - ETA: 4:13 - loss: 1.4703 - accuracy: 0.48 - ETA: 4:13 - loss: 1.4592 - accuracy: 0.48 - ETA: 4:13 - loss: 1.4511 - accuracy: 0.48 - ETA: 4:12 - loss: 1.4428 - accuracy: 0.49 - ETA: 4:12 - loss: 1.4349 - accuracy: 0.49 - ETA: 4:12 - loss: 1.4271 - accuracy: 0.49 - ETA: 4:12 - loss: 1.4185 - accuracy: 0.50 - ETA: 4:11 - loss: 1.4115 - accuracy: 0.50 - ETA: 4:11 - loss: 1.4053 - accuracy: 0.50 - ETA: 4:10 - loss: 1.3987 - accuracy: 0.50 - ETA: 4:09 - loss: 1.3921 - accuracy: 0.50 - ETA: 4:09 - loss: 1.3857 - accuracy: 0.51 - ETA: 4:08 - loss: 1.3776 - accuracy: 0.51 - ETA: 4:08 - loss: 1.3690 - accuracy: 0.51 - ETA: 4:07 - loss: 1.3625 - accuracy: 0.51 - ETA: 4:07 - loss: 1.3569 - accuracy: 0.52 - ETA: 4:06 - loss: 1.3518 - accuracy: 0.52 - ETA: 4:07 - loss: 1.3433 - accuracy: 0.52 - ETA: 4:07 - loss: 1.3377 - accuracy: 0.52 - ETA: 4:08 - loss: 1.3327 - accuracy: 0.52 - ETA: 4:08 - loss: 1.3269 - accuracy: 0.53 - ETA: 4:07 - loss: 1.3224 - accuracy: 0.53 - ETA: 4:07 - loss: 1.3191 - accuracy: 0.53 - ETA: 4:07 - loss: 1.3148 - accuracy: 0.53 - ETA: 4:07 - loss: 1.3085 - accuracy: 0.53 - ETA: 4:07 - loss: 1.3033 - accuracy: 0.54 - ETA: 4:07 - loss: 1.2967 - accuracy: 0.54 - ETA: 4:07 - loss: 1.2937 - accuracy: 0.54 - ETA: 4:06 - loss: 1.2874 - accuracy: 0.54 - ETA: 4:06 - loss: 1.2816 - accuracy: 0.54 - ETA: 4:06 - loss: 1.2758 - accuracy: 0.54 - ETA: 4:05 - loss: 1.2731 - accuracy: 0.55 - ETA: 4:05 - loss: 1.2681 - accuracy: 0.55 - ETA: 4:05 - loss: 1.2640 - accuracy: 0.55 - ETA: 4:04 - loss: 1.2582 - accuracy: 0.55 - ETA: 4:04 - loss: 1.2544 - accuracy: 0.55 - ETA: 4:04 - loss: 1.2486 - accuracy: 0.55 - ETA: 4:03 - loss: 1.2443 - accuracy: 0.55 - ETA: 4:03 - loss: 1.2393 - accuracy: 0.56 - ETA: 4:03 - loss: 1.2343 - accuracy: 0.56 - ETA: 4:03 - loss: 1.2312 - accuracy: 0.56 - ETA: 4:02 - loss: 1.2268 - accuracy: 0.56 - ETA: 4:02 - loss: 1.2232 - accuracy: 0.56 - ETA: 4:01 - loss: 1.2177 - accuracy: 0.56 - ETA: 4:01 - loss: 1.2129 - accuracy: 0.57 - ETA: 4:01 - loss: 1.2077 - accuracy: 0.57 - ETA: 4:00 - loss: 1.2037 - accuracy: 0.57 - ETA: 4:00 - loss: 1.1987 - accuracy: 0.57 - ETA: 4:00 - loss: 1.1945 - accuracy: 0.57 - ETA: 3:59 - loss: 1.1909 - accuracy: 0.57 - ETA: 3:59 - loss: 1.1872 - accuracy: 0.57 - ETA: 3:59 - loss: 1.1832 - accuracy: 0.58 - ETA: 3:59 - loss: 1.1800 - accuracy: 0.58 - ETA: 3:59 - loss: 1.1769 - accuracy: 0.58 - ETA: 3:59 - loss: 1.1733 - accuracy: 0.58 - ETA: 3:58 - loss: 1.1703 - accuracy: 0.58 - ETA: 3:58 - loss: 1.1671 - accuracy: 0.58 - ETA: 3:58 - loss: 1.1640 - accuracy: 0.58 - ETA: 3:57 - loss: 1.1600 - accuracy: 0.58 - ETA: 3:57 - loss: 1.1562 - accuracy: 0.59 - ETA: 3:57 - loss: 1.1543 - accuracy: 0.59 - ETA: 3:56 - loss: 1.1508 - accuracy: 0.59 - ETA: 3:56 - loss: 1.1469 - accuracy: 0.59 - ETA: 3:55 - loss: 1.1427 - accuracy: 0.59 - ETA: 3:55 - loss: 1.1392 - accuracy: 0.59 - ETA: 3:55 - loss: 1.1359 - accuracy: 0.59 - ETA: 3:55 - loss: 1.1327 - accuracy: 0.59 - ETA: 3:55 - loss: 1.1292 - accuracy: 0.59 - ETA: 3:54 - loss: 1.1267 - accuracy: 0.60 - ETA: 3:54 - loss: 1.1227 - accuracy: 0.60 - ETA: 3:54 - loss: 1.1191 - accuracy: 0.60 - ETA: 3:54 - loss: 1.1165 - accuracy: 0.60 - ETA: 3:54 - loss: 1.1147 - accuracy: 0.60 - ETA: 3:54 - loss: 1.1103 - accuracy: 0.60 - ETA: 3:53 - loss: 1.1067 - accuracy: 0.60 - ETA: 3:53 - loss: 1.1038 - accuracy: 0.60 - ETA: 3:53 - loss: 1.1004 - accuracy: 0.61 - ETA: 3:53 - loss: 1.0971 - accuracy: 0.61 - ETA: 3:53 - loss: 1.0958 - accuracy: 0.61 - ETA: 3:53 - loss: 1.0928 - accuracy: 0.61 - ETA: 3:53 - loss: 1.0899 - accuracy: 0.61 - ETA: 3:53 - loss: 1.0873 - accuracy: 0.61 - ETA: 3:53 - loss: 1.0847 - accuracy: 0.61 - ETA: 3:53 - loss: 1.0824 - accuracy: 0.61 - ETA: 3:52 - loss: 1.0813 - accuracy: 0.61 - ETA: 3:52 - loss: 1.0789 - accuracy: 0.61 - ETA: 3:52 - loss: 1.0785 - accuracy: 0.61 - ETA: 3:51 - loss: 1.0776 - accuracy: 0.61 - ETA: 3:51 - loss: 1.0752 - accuracy: 0.61 - ETA: 3:51 - loss: 1.0727 - accuracy: 0.61 - ETA: 3:51 - loss: 1.0715 - accuracy: 0.61 - ETA: 3:50 - loss: 1.0687 - accuracy: 0.62 - ETA: 3:50 - loss: 1.0682 - accuracy: 0.62 - ETA: 3:49 - loss: 1.0655 - accuracy: 0.62 - ETA: 3:49 - loss: 1.0627 - accuracy: 0.62 - ETA: 3:48 - loss: 1.0612 - accuracy: 0.62 - ETA: 3:48 - loss: 1.0583 - accuracy: 0.62 - ETA: 3:47 - loss: 1.0548 - accuracy: 0.62 - ETA: 3:47 - loss: 1.0520 - accuracy: 0.62 - ETA: 3:47 - loss: 1.0495 - accuracy: 0.62 - ETA: 3:46 - loss: 1.0470 - accuracy: 0.62 - ETA: 3:46 - loss: 1.0449 - accuracy: 0.62 - ETA: 3:45 - loss: 1.0429 - accuracy: 0.62 - ETA: 3:45 - loss: 1.0407 - accuracy: 0.62 - ETA: 3:45 - loss: 1.0385 - accuracy: 0.63 - ETA: 3:44 - loss: 1.0356 - accuracy: 0.63 - ETA: 3:44 - loss: 1.0336 - accuracy: 0.63 - ETA: 3:43 - loss: 1.0314 - accuracy: 0.63 - ETA: 3:43 - loss: 1.0283 - accuracy: 0.63 - ETA: 3:43 - loss: 1.0253 - accuracy: 0.63 - ETA: 3:42 - loss: 1.0226 - accuracy: 0.63 - ETA: 3:42 - loss: 1.0216 - accuracy: 0.63 - ETA: 3:41 - loss: 1.0196 - accuracy: 0.63 - ETA: 3:41 - loss: 1.0174 - accuracy: 0.63 - ETA: 3:41 - loss: 1.0154 - accuracy: 0.63 - ETA: 3:40 - loss: 1.0135 - accuracy: 0.63 - ETA: 3:40 - loss: 1.0121 - accuracy: 0.64 - ETA: 3:39 - loss: 1.0114 - accuracy: 0.64 - ETA: 3:39 - loss: 1.0115 - accuracy: 0.64 - ETA: 3:39 - loss: 1.0091 - accuracy: 0.6414"
     ]
    },
    {
     "name": "stdout",
     "output_type": "stream",
     "text": [
      "372/938 [==========>...................] - ETA: 3:38 - loss: 1.0079 - accuracy: 0.64 - ETA: 3:38 - loss: 1.0074 - accuracy: 0.64 - ETA: 3:38 - loss: 1.0059 - accuracy: 0.64 - ETA: 3:37 - loss: 1.0052 - accuracy: 0.64 - ETA: 3:37 - loss: 1.0037 - accuracy: 0.64 - ETA: 3:36 - loss: 1.0022 - accuracy: 0.64 - ETA: 3:36 - loss: 1.0002 - accuracy: 0.64 - ETA: 3:36 - loss: 1.0004 - accuracy: 0.64 - ETA: 3:35 - loss: 0.9999 - accuracy: 0.64 - ETA: 3:35 - loss: 0.9984 - accuracy: 0.64 - ETA: 3:35 - loss: 0.9974 - accuracy: 0.64 - ETA: 3:34 - loss: 0.9948 - accuracy: 0.64 - ETA: 3:34 - loss: 0.9931 - accuracy: 0.64 - ETA: 3:33 - loss: 0.9919 - accuracy: 0.64 - ETA: 3:33 - loss: 0.9912 - accuracy: 0.64 - ETA: 3:33 - loss: 0.9896 - accuracy: 0.64 - ETA: 3:32 - loss: 0.9882 - accuracy: 0.64 - ETA: 3:32 - loss: 0.9862 - accuracy: 0.64 - ETA: 3:32 - loss: 0.9843 - accuracy: 0.64 - ETA: 3:31 - loss: 0.9838 - accuracy: 0.64 - ETA: 3:31 - loss: 0.9833 - accuracy: 0.65 - ETA: 3:30 - loss: 0.9822 - accuracy: 0.65 - ETA: 3:30 - loss: 0.9803 - accuracy: 0.65 - ETA: 3:30 - loss: 0.9791 - accuracy: 0.65 - ETA: 3:29 - loss: 0.9771 - accuracy: 0.65 - ETA: 3:29 - loss: 0.9746 - accuracy: 0.65 - ETA: 3:29 - loss: 0.9726 - accuracy: 0.65 - ETA: 3:28 - loss: 0.9710 - accuracy: 0.65 - ETA: 3:28 - loss: 0.9702 - accuracy: 0.65 - ETA: 3:27 - loss: 0.9683 - accuracy: 0.65 - ETA: 3:27 - loss: 0.9663 - accuracy: 0.65 - ETA: 3:27 - loss: 0.9650 - accuracy: 0.65 - ETA: 3:27 - loss: 0.9628 - accuracy: 0.65 - ETA: 3:26 - loss: 0.9610 - accuracy: 0.65 - ETA: 3:26 - loss: 0.9603 - accuracy: 0.65 - ETA: 3:26 - loss: 0.9589 - accuracy: 0.65 - ETA: 3:25 - loss: 0.9571 - accuracy: 0.65 - ETA: 3:25 - loss: 0.9555 - accuracy: 0.66 - ETA: 3:24 - loss: 0.9547 - accuracy: 0.66 - ETA: 3:24 - loss: 0.9533 - accuracy: 0.66 - ETA: 3:24 - loss: 0.9517 - accuracy: 0.66 - ETA: 3:23 - loss: 0.9506 - accuracy: 0.66 - ETA: 3:23 - loss: 0.9495 - accuracy: 0.66 - ETA: 3:23 - loss: 0.9481 - accuracy: 0.66 - ETA: 3:22 - loss: 0.9465 - accuracy: 0.66 - ETA: 3:22 - loss: 0.9452 - accuracy: 0.66 - ETA: 3:22 - loss: 0.9445 - accuracy: 0.66 - ETA: 3:21 - loss: 0.9432 - accuracy: 0.66 - ETA: 3:21 - loss: 0.9419 - accuracy: 0.66 - ETA: 3:21 - loss: 0.9403 - accuracy: 0.66 - ETA: 3:20 - loss: 0.9391 - accuracy: 0.66 - ETA: 3:20 - loss: 0.9378 - accuracy: 0.66 - ETA: 3:20 - loss: 0.9373 - accuracy: 0.66 - ETA: 3:19 - loss: 0.9374 - accuracy: 0.66 - ETA: 3:19 - loss: 0.9363 - accuracy: 0.66 - ETA: 3:19 - loss: 0.9359 - accuracy: 0.66 - ETA: 3:18 - loss: 0.9340 - accuracy: 0.66 - ETA: 3:18 - loss: 0.9329 - accuracy: 0.66 - ETA: 3:18 - loss: 0.9321 - accuracy: 0.66 - ETA: 3:17 - loss: 0.9311 - accuracy: 0.66 - ETA: 3:17 - loss: 0.9304 - accuracy: 0.66 - ETA: 3:17 - loss: 0.9293 - accuracy: 0.66 - ETA: 3:16 - loss: 0.9289 - accuracy: 0.66 - ETA: 3:16 - loss: 0.9278 - accuracy: 0.66 - ETA: 3:16 - loss: 0.9264 - accuracy: 0.66 - ETA: 3:15 - loss: 0.9260 - accuracy: 0.66 - ETA: 3:15 - loss: 0.9248 - accuracy: 0.67 - ETA: 3:15 - loss: 0.9237 - accuracy: 0.67 - ETA: 3:14 - loss: 0.9228 - accuracy: 0.67 - ETA: 3:14 - loss: 0.9216 - accuracy: 0.67 - ETA: 3:14 - loss: 0.9203 - accuracy: 0.67 - ETA: 3:14 - loss: 0.9194 - accuracy: 0.67 - ETA: 3:13 - loss: 0.9180 - accuracy: 0.67 - ETA: 3:13 - loss: 0.9170 - accuracy: 0.67 - ETA: 3:13 - loss: 0.9160 - accuracy: 0.67 - ETA: 3:12 - loss: 0.9162 - accuracy: 0.67 - ETA: 3:12 - loss: 0.9145 - accuracy: 0.67 - ETA: 3:12 - loss: 0.9139 - accuracy: 0.67 - ETA: 3:11 - loss: 0.9124 - accuracy: 0.67 - ETA: 3:11 - loss: 0.9117 - accuracy: 0.67 - ETA: 3:11 - loss: 0.9112 - accuracy: 0.67 - ETA: 3:11 - loss: 0.9103 - accuracy: 0.67 - ETA: 3:10 - loss: 0.9092 - accuracy: 0.67 - ETA: 3:10 - loss: 0.9076 - accuracy: 0.67 - ETA: 3:10 - loss: 0.9061 - accuracy: 0.67 - ETA: 3:09 - loss: 0.9048 - accuracy: 0.67 - ETA: 3:09 - loss: 0.9035 - accuracy: 0.67 - ETA: 3:09 - loss: 0.9025 - accuracy: 0.67 - ETA: 3:09 - loss: 0.9009 - accuracy: 0.67 - ETA: 3:08 - loss: 0.8994 - accuracy: 0.67 - ETA: 3:08 - loss: 0.8982 - accuracy: 0.67 - ETA: 3:08 - loss: 0.8969 - accuracy: 0.67 - ETA: 3:07 - loss: 0.8961 - accuracy: 0.68 - ETA: 3:07 - loss: 0.8957 - accuracy: 0.68 - ETA: 3:07 - loss: 0.8946 - accuracy: 0.68 - ETA: 3:07 - loss: 0.8935 - accuracy: 0.68 - ETA: 3:06 - loss: 0.8921 - accuracy: 0.68 - ETA: 3:06 - loss: 0.8912 - accuracy: 0.68 - ETA: 3:06 - loss: 0.8904 - accuracy: 0.68 - ETA: 3:05 - loss: 0.8892 - accuracy: 0.68 - ETA: 3:05 - loss: 0.8883 - accuracy: 0.68 - ETA: 3:05 - loss: 0.8873 - accuracy: 0.68 - ETA: 3:05 - loss: 0.8862 - accuracy: 0.68 - ETA: 3:04 - loss: 0.8848 - accuracy: 0.68 - ETA: 3:04 - loss: 0.8836 - accuracy: 0.68 - ETA: 3:04 - loss: 0.8830 - accuracy: 0.68 - ETA: 3:03 - loss: 0.8829 - accuracy: 0.68 - ETA: 3:03 - loss: 0.8825 - accuracy: 0.68 - ETA: 3:03 - loss: 0.8816 - accuracy: 0.68 - ETA: 3:02 - loss: 0.8803 - accuracy: 0.68 - ETA: 3:02 - loss: 0.8791 - accuracy: 0.68 - ETA: 3:02 - loss: 0.8780 - accuracy: 0.68 - ETA: 3:02 - loss: 0.8771 - accuracy: 0.68 - ETA: 3:01 - loss: 0.8760 - accuracy: 0.68 - ETA: 3:01 - loss: 0.8753 - accuracy: 0.68 - ETA: 3:01 - loss: 0.8742 - accuracy: 0.68 - ETA: 3:00 - loss: 0.8734 - accuracy: 0.68 - ETA: 3:00 - loss: 0.8727 - accuracy: 0.68 - ETA: 3:00 - loss: 0.8715 - accuracy: 0.68 - ETA: 2:59 - loss: 0.8709 - accuracy: 0.68 - ETA: 2:59 - loss: 0.8697 - accuracy: 0.68 - ETA: 2:59 - loss: 0.8688 - accuracy: 0.68 - ETA: 2:58 - loss: 0.8674 - accuracy: 0.68 - ETA: 2:58 - loss: 0.8664 - accuracy: 0.68 - ETA: 2:58 - loss: 0.8663 - accuracy: 0.68 - ETA: 2:58 - loss: 0.8652 - accuracy: 0.68 - ETA: 2:57 - loss: 0.8643 - accuracy: 0.69 - ETA: 2:57 - loss: 0.8637 - accuracy: 0.69 - ETA: 2:57 - loss: 0.8625 - accuracy: 0.69 - ETA: 2:56 - loss: 0.8615 - accuracy: 0.69 - ETA: 2:56 - loss: 0.8606 - accuracy: 0.69 - ETA: 2:56 - loss: 0.8596 - accuracy: 0.69 - ETA: 2:55 - loss: 0.8588 - accuracy: 0.69 - ETA: 2:55 - loss: 0.8581 - accuracy: 0.69 - ETA: 2:55 - loss: 0.8574 - accuracy: 0.69 - ETA: 2:54 - loss: 0.8569 - accuracy: 0.69 - ETA: 2:54 - loss: 0.8563 - accuracy: 0.69 - ETA: 2:54 - loss: 0.8552 - accuracy: 0.69 - ETA: 2:54 - loss: 0.8558 - accuracy: 0.69 - ETA: 2:53 - loss: 0.8551 - accuracy: 0.69 - ETA: 2:53 - loss: 0.8536 - accuracy: 0.69 - ETA: 2:53 - loss: 0.8527 - accuracy: 0.69 - ETA: 2:52 - loss: 0.8521 - accuracy: 0.69 - ETA: 2:52 - loss: 0.8510 - accuracy: 0.69 - ETA: 2:52 - loss: 0.8498 - accuracy: 0.69 - ETA: 2:51 - loss: 0.8492 - accuracy: 0.69 - ETA: 2:51 - loss: 0.8486 - accuracy: 0.69 - ETA: 2:51 - loss: 0.8482 - accuracy: 0.69 - ETA: 2:51 - loss: 0.8486 - accuracy: 0.69 - ETA: 2:50 - loss: 0.8477 - accuracy: 0.69 - ETA: 2:50 - loss: 0.8467 - accuracy: 0.69 - ETA: 2:50 - loss: 0.8456 - accuracy: 0.69 - ETA: 2:49 - loss: 0.8448 - accuracy: 0.69 - ETA: 2:49 - loss: 0.8443 - accuracy: 0.69 - ETA: 2:49 - loss: 0.8440 - accuracy: 0.69 - ETA: 2:48 - loss: 0.8435 - accuracy: 0.69 - ETA: 2:48 - loss: 0.8429 - accuracy: 0.69 - ETA: 2:48 - loss: 0.8424 - accuracy: 0.69 - ETA: 2:48 - loss: 0.8414 - accuracy: 0.69 - ETA: 2:47 - loss: 0.8404 - accuracy: 0.69 - ETA: 2:47 - loss: 0.8397 - accuracy: 0.69 - ETA: 2:47 - loss: 0.8389 - accuracy: 0.69 - ETA: 2:46 - loss: 0.8380 - accuracy: 0.69 - ETA: 2:46 - loss: 0.8375 - accuracy: 0.69 - ETA: 2:46 - loss: 0.8366 - accuracy: 0.69 - ETA: 2:45 - loss: 0.8354 - accuracy: 0.69 - ETA: 2:45 - loss: 0.8347 - accuracy: 0.70 - ETA: 2:45 - loss: 0.8339 - accuracy: 0.70 - ETA: 2:45 - loss: 0.8340 - accuracy: 0.70 - ETA: 2:44 - loss: 0.8332 - accuracy: 0.70 - ETA: 2:44 - loss: 0.8326 - accuracy: 0.70 - ETA: 2:44 - loss: 0.8318 - accuracy: 0.70 - ETA: 2:43 - loss: 0.8310 - accuracy: 0.70 - ETA: 2:43 - loss: 0.8299 - accuracy: 0.70 - ETA: 2:43 - loss: 0.8289 - accuracy: 0.70 - ETA: 2:42 - loss: 0.8280 - accuracy: 0.70 - ETA: 2:42 - loss: 0.8271 - accuracy: 0.70 - ETA: 2:42 - loss: 0.8259 - accuracy: 0.70 - ETA: 2:42 - loss: 0.8253 - accuracy: 0.70 - ETA: 2:41 - loss: 0.8244 - accuracy: 0.70 - ETA: 2:41 - loss: 0.8232 - accuracy: 0.70 - ETA: 2:41 - loss: 0.8228 - accuracy: 0.70 - ETA: 2:40 - loss: 0.8226 - accuracy: 0.70 - ETA: 2:40 - loss: 0.8219 - accuracy: 0.70 - ETA: 2:40 - loss: 0.8205 - accuracy: 0.70 - ETA: 2:39 - loss: 0.8196 - accuracy: 0.7048"
     ]
    },
    {
     "name": "stdout",
     "output_type": "stream",
     "text": [
      "558/938 [================>.............] - ETA: 2:39 - loss: 0.8189 - accuracy: 0.70 - ETA: 2:39 - loss: 0.8187 - accuracy: 0.70 - ETA: 2:38 - loss: 0.8183 - accuracy: 0.70 - ETA: 2:38 - loss: 0.8174 - accuracy: 0.70 - ETA: 2:38 - loss: 0.8169 - accuracy: 0.70 - ETA: 2:38 - loss: 0.8165 - accuracy: 0.70 - ETA: 2:37 - loss: 0.8156 - accuracy: 0.70 - ETA: 2:37 - loss: 0.8153 - accuracy: 0.70 - ETA: 2:37 - loss: 0.8144 - accuracy: 0.70 - ETA: 2:36 - loss: 0.8137 - accuracy: 0.70 - ETA: 2:36 - loss: 0.8132 - accuracy: 0.70 - ETA: 2:36 - loss: 0.8126 - accuracy: 0.70 - ETA: 2:35 - loss: 0.8127 - accuracy: 0.70 - ETA: 2:35 - loss: 0.8127 - accuracy: 0.70 - ETA: 2:35 - loss: 0.8119 - accuracy: 0.70 - ETA: 2:34 - loss: 0.8108 - accuracy: 0.70 - ETA: 2:34 - loss: 0.8102 - accuracy: 0.70 - ETA: 2:34 - loss: 0.8100 - accuracy: 0.70 - ETA: 2:33 - loss: 0.8088 - accuracy: 0.70 - ETA: 2:33 - loss: 0.8080 - accuracy: 0.70 - ETA: 2:33 - loss: 0.8077 - accuracy: 0.70 - ETA: 2:32 - loss: 0.8071 - accuracy: 0.70 - ETA: 2:32 - loss: 0.8064 - accuracy: 0.70 - ETA: 2:32 - loss: 0.8057 - accuracy: 0.70 - ETA: 2:32 - loss: 0.8061 - accuracy: 0.70 - ETA: 2:31 - loss: 0.8060 - accuracy: 0.70 - ETA: 2:31 - loss: 0.8057 - accuracy: 0.70 - ETA: 2:31 - loss: 0.8050 - accuracy: 0.70 - ETA: 2:30 - loss: 0.8041 - accuracy: 0.71 - ETA: 2:30 - loss: 0.8033 - accuracy: 0.71 - ETA: 2:30 - loss: 0.8027 - accuracy: 0.71 - ETA: 2:29 - loss: 0.8019 - accuracy: 0.71 - ETA: 2:29 - loss: 0.8013 - accuracy: 0.71 - ETA: 2:29 - loss: 0.8006 - accuracy: 0.71 - ETA: 2:29 - loss: 0.7997 - accuracy: 0.71 - ETA: 2:28 - loss: 0.7989 - accuracy: 0.71 - ETA: 2:28 - loss: 0.7982 - accuracy: 0.71 - ETA: 2:28 - loss: 0.7978 - accuracy: 0.71 - ETA: 2:28 - loss: 0.7976 - accuracy: 0.71 - ETA: 2:27 - loss: 0.7970 - accuracy: 0.71 - ETA: 2:27 - loss: 0.7965 - accuracy: 0.71 - ETA: 2:27 - loss: 0.7957 - accuracy: 0.71 - ETA: 2:26 - loss: 0.7950 - accuracy: 0.71 - ETA: 2:26 - loss: 0.7944 - accuracy: 0.71 - ETA: 2:26 - loss: 0.7945 - accuracy: 0.71 - ETA: 2:25 - loss: 0.7938 - accuracy: 0.71 - ETA: 2:25 - loss: 0.7937 - accuracy: 0.71 - ETA: 2:25 - loss: 0.7931 - accuracy: 0.71 - ETA: 2:24 - loss: 0.7927 - accuracy: 0.71 - ETA: 2:24 - loss: 0.7923 - accuracy: 0.71 - ETA: 2:24 - loss: 0.7917 - accuracy: 0.71 - ETA: 2:24 - loss: 0.7907 - accuracy: 0.71 - ETA: 2:23 - loss: 0.7901 - accuracy: 0.71 - ETA: 2:23 - loss: 0.7895 - accuracy: 0.71 - ETA: 2:23 - loss: 0.7890 - accuracy: 0.71 - ETA: 2:22 - loss: 0.7889 - accuracy: 0.71 - ETA: 2:22 - loss: 0.7886 - accuracy: 0.71 - ETA: 2:22 - loss: 0.7880 - accuracy: 0.71 - ETA: 2:21 - loss: 0.7870 - accuracy: 0.71 - ETA: 2:21 - loss: 0.7863 - accuracy: 0.71 - ETA: 2:21 - loss: 0.7858 - accuracy: 0.71 - ETA: 2:21 - loss: 0.7852 - accuracy: 0.71 - ETA: 2:20 - loss: 0.7851 - accuracy: 0.71 - ETA: 2:20 - loss: 0.7845 - accuracy: 0.71 - ETA: 2:20 - loss: 0.7836 - accuracy: 0.71 - ETA: 2:19 - loss: 0.7830 - accuracy: 0.71 - ETA: 2:19 - loss: 0.7822 - accuracy: 0.71 - ETA: 2:19 - loss: 0.7815 - accuracy: 0.71 - ETA: 2:18 - loss: 0.7809 - accuracy: 0.71 - ETA: 2:18 - loss: 0.7802 - accuracy: 0.71 - ETA: 2:18 - loss: 0.7799 - accuracy: 0.71 - ETA: 2:18 - loss: 0.7790 - accuracy: 0.71 - ETA: 2:17 - loss: 0.7784 - accuracy: 0.71 - ETA: 2:17 - loss: 0.7781 - accuracy: 0.71 - ETA: 2:17 - loss: 0.7779 - accuracy: 0.71 - ETA: 2:16 - loss: 0.7778 - accuracy: 0.71 - ETA: 2:16 - loss: 0.7770 - accuracy: 0.71 - ETA: 2:16 - loss: 0.7765 - accuracy: 0.71 - ETA: 2:15 - loss: 0.7758 - accuracy: 0.71 - ETA: 2:15 - loss: 0.7753 - accuracy: 0.71 - ETA: 2:15 - loss: 0.7752 - accuracy: 0.71 - ETA: 2:15 - loss: 0.7747 - accuracy: 0.71 - ETA: 2:14 - loss: 0.7741 - accuracy: 0.72 - ETA: 2:14 - loss: 0.7741 - accuracy: 0.72 - ETA: 2:14 - loss: 0.7736 - accuracy: 0.72 - ETA: 2:13 - loss: 0.7735 - accuracy: 0.72 - ETA: 2:13 - loss: 0.7730 - accuracy: 0.72 - ETA: 2:13 - loss: 0.7720 - accuracy: 0.72 - ETA: 2:13 - loss: 0.7716 - accuracy: 0.72 - ETA: 2:12 - loss: 0.7710 - accuracy: 0.72 - ETA: 2:12 - loss: 0.7707 - accuracy: 0.72 - ETA: 2:12 - loss: 0.7705 - accuracy: 0.72 - ETA: 2:11 - loss: 0.7698 - accuracy: 0.72 - ETA: 2:11 - loss: 0.7692 - accuracy: 0.72 - ETA: 2:11 - loss: 0.7688 - accuracy: 0.72 - ETA: 2:10 - loss: 0.7688 - accuracy: 0.72 - ETA: 2:10 - loss: 0.7685 - accuracy: 0.72 - ETA: 2:10 - loss: 0.7682 - accuracy: 0.72 - ETA: 2:10 - loss: 0.7676 - accuracy: 0.72 - ETA: 2:09 - loss: 0.7670 - accuracy: 0.72 - ETA: 2:09 - loss: 0.7666 - accuracy: 0.72 - ETA: 2:09 - loss: 0.7662 - accuracy: 0.72 - ETA: 2:08 - loss: 0.7658 - accuracy: 0.72 - ETA: 2:08 - loss: 0.7653 - accuracy: 0.72 - ETA: 2:08 - loss: 0.7648 - accuracy: 0.72 - ETA: 2:08 - loss: 0.7643 - accuracy: 0.72 - ETA: 2:07 - loss: 0.7638 - accuracy: 0.72 - ETA: 2:07 - loss: 0.7636 - accuracy: 0.72 - ETA: 2:07 - loss: 0.7629 - accuracy: 0.72 - ETA: 2:06 - loss: 0.7628 - accuracy: 0.72 - ETA: 2:06 - loss: 0.7623 - accuracy: 0.72 - ETA: 2:06 - loss: 0.7615 - accuracy: 0.72 - ETA: 2:06 - loss: 0.7610 - accuracy: 0.72 - ETA: 2:05 - loss: 0.7605 - accuracy: 0.72 - ETA: 2:05 - loss: 0.7602 - accuracy: 0.72 - ETA: 2:05 - loss: 0.7597 - accuracy: 0.72 - ETA: 2:04 - loss: 0.7595 - accuracy: 0.72 - ETA: 2:04 - loss: 0.7589 - accuracy: 0.72 - ETA: 2:04 - loss: 0.7581 - accuracy: 0.72 - ETA: 2:04 - loss: 0.7578 - accuracy: 0.72 - ETA: 2:03 - loss: 0.7572 - accuracy: 0.72 - ETA: 2:03 - loss: 0.7567 - accuracy: 0.72 - ETA: 2:03 - loss: 0.7564 - accuracy: 0.72 - ETA: 2:02 - loss: 0.7559 - accuracy: 0.72 - ETA: 2:02 - loss: 0.7558 - accuracy: 0.72 - ETA: 2:02 - loss: 0.7554 - accuracy: 0.72 - ETA: 2:01 - loss: 0.7553 - accuracy: 0.72 - ETA: 2:01 - loss: 0.7549 - accuracy: 0.72 - ETA: 2:01 - loss: 0.7545 - accuracy: 0.72 - ETA: 2:01 - loss: 0.7538 - accuracy: 0.72 - ETA: 2:00 - loss: 0.7532 - accuracy: 0.72 - ETA: 2:00 - loss: 0.7525 - accuracy: 0.72 - ETA: 2:00 - loss: 0.7524 - accuracy: 0.72 - ETA: 1:59 - loss: 0.7525 - accuracy: 0.72 - ETA: 1:59 - loss: 0.7521 - accuracy: 0.72 - ETA: 1:59 - loss: 0.7518 - accuracy: 0.72 - ETA: 1:59 - loss: 0.7510 - accuracy: 0.72 - ETA: 1:58 - loss: 0.7507 - accuracy: 0.72 - ETA: 1:58 - loss: 0.7504 - accuracy: 0.72 - ETA: 1:58 - loss: 0.7504 - accuracy: 0.72 - ETA: 1:57 - loss: 0.7498 - accuracy: 0.72 - ETA: 1:57 - loss: 0.7493 - accuracy: 0.72 - ETA: 1:57 - loss: 0.7489 - accuracy: 0.72 - ETA: 1:57 - loss: 0.7483 - accuracy: 0.72 - ETA: 1:56 - loss: 0.7478 - accuracy: 0.72 - ETA: 1:56 - loss: 0.7473 - accuracy: 0.72 - ETA: 1:56 - loss: 0.7469 - accuracy: 0.72 - ETA: 1:55 - loss: 0.7463 - accuracy: 0.72 - ETA: 1:55 - loss: 0.7459 - accuracy: 0.73 - ETA: 1:55 - loss: 0.7453 - accuracy: 0.73 - ETA: 1:55 - loss: 0.7452 - accuracy: 0.73 - ETA: 1:54 - loss: 0.7449 - accuracy: 0.73 - ETA: 1:54 - loss: 0.7449 - accuracy: 0.73 - ETA: 1:54 - loss: 0.7443 - accuracy: 0.73 - ETA: 1:53 - loss: 0.7441 - accuracy: 0.73 - ETA: 1:53 - loss: 0.7440 - accuracy: 0.73 - ETA: 1:53 - loss: 0.7436 - accuracy: 0.73 - ETA: 1:53 - loss: 0.7430 - accuracy: 0.73 - ETA: 1:52 - loss: 0.7428 - accuracy: 0.73 - ETA: 1:52 - loss: 0.7424 - accuracy: 0.73 - ETA: 1:52 - loss: 0.7421 - accuracy: 0.73 - ETA: 1:51 - loss: 0.7416 - accuracy: 0.73 - ETA: 1:51 - loss: 0.7412 - accuracy: 0.73 - ETA: 1:51 - loss: 0.7405 - accuracy: 0.73 - ETA: 1:51 - loss: 0.7399 - accuracy: 0.73 - ETA: 1:50 - loss: 0.7395 - accuracy: 0.73 - ETA: 1:50 - loss: 0.7389 - accuracy: 0.73 - ETA: 1:50 - loss: 0.7387 - accuracy: 0.73 - ETA: 1:49 - loss: 0.7385 - accuracy: 0.73 - ETA: 1:49 - loss: 0.7383 - accuracy: 0.73 - ETA: 1:49 - loss: 0.7378 - accuracy: 0.73 - ETA: 1:49 - loss: 0.7373 - accuracy: 0.73 - ETA: 1:48 - loss: 0.7369 - accuracy: 0.73 - ETA: 1:48 - loss: 0.7369 - accuracy: 0.73 - ETA: 1:48 - loss: 0.7366 - accuracy: 0.73 - ETA: 1:47 - loss: 0.7370 - accuracy: 0.73 - ETA: 1:47 - loss: 0.7366 - accuracy: 0.73 - ETA: 1:47 - loss: 0.7363 - accuracy: 0.73 - ETA: 1:47 - loss: 0.7359 - accuracy: 0.73 - ETA: 1:46 - loss: 0.7356 - accuracy: 0.73 - ETA: 1:46 - loss: 0.7351 - accuracy: 0.73 - ETA: 1:46 - loss: 0.7346 - accuracy: 0.73 - ETA: 1:46 - loss: 0.7345 - accuracy: 0.73 - ETA: 1:45 - loss: 0.7338 - accuracy: 0.73 - ETA: 1:45 - loss: 0.7336 - accuracy: 0.73 - ETA: 1:45 - loss: 0.7334 - accuracy: 0.7347"
     ]
    },
    {
     "name": "stdout",
     "output_type": "stream",
     "text": [
      "744/938 [======================>.......] - ETA: 1:44 - loss: 0.7329 - accuracy: 0.73 - ETA: 1:44 - loss: 0.7322 - accuracy: 0.73 - ETA: 1:44 - loss: 0.7322 - accuracy: 0.73 - ETA: 1:44 - loss: 0.7318 - accuracy: 0.73 - ETA: 1:43 - loss: 0.7318 - accuracy: 0.73 - ETA: 1:43 - loss: 0.7313 - accuracy: 0.73 - ETA: 1:43 - loss: 0.7309 - accuracy: 0.73 - ETA: 1:42 - loss: 0.7306 - accuracy: 0.73 - ETA: 1:42 - loss: 0.7304 - accuracy: 0.73 - ETA: 1:42 - loss: 0.7302 - accuracy: 0.73 - ETA: 1:42 - loss: 0.7297 - accuracy: 0.73 - ETA: 1:41 - loss: 0.7292 - accuracy: 0.73 - ETA: 1:41 - loss: 0.7285 - accuracy: 0.73 - ETA: 1:41 - loss: 0.7281 - accuracy: 0.73 - ETA: 1:40 - loss: 0.7275 - accuracy: 0.73 - ETA: 1:40 - loss: 0.7270 - accuracy: 0.73 - ETA: 1:40 - loss: 0.7270 - accuracy: 0.73 - ETA: 1:39 - loss: 0.7268 - accuracy: 0.73 - ETA: 1:39 - loss: 0.7265 - accuracy: 0.73 - ETA: 1:39 - loss: 0.7263 - accuracy: 0.73 - ETA: 1:39 - loss: 0.7260 - accuracy: 0.73 - ETA: 1:38 - loss: 0.7258 - accuracy: 0.73 - ETA: 1:38 - loss: 0.7251 - accuracy: 0.73 - ETA: 1:38 - loss: 0.7249 - accuracy: 0.73 - ETA: 1:37 - loss: 0.7243 - accuracy: 0.73 - ETA: 1:37 - loss: 0.7240 - accuracy: 0.73 - ETA: 1:37 - loss: 0.7235 - accuracy: 0.73 - ETA: 1:37 - loss: 0.7231 - accuracy: 0.73 - ETA: 1:36 - loss: 0.7231 - accuracy: 0.73 - ETA: 1:36 - loss: 0.7228 - accuracy: 0.73 - ETA: 1:36 - loss: 0.7226 - accuracy: 0.73 - ETA: 1:35 - loss: 0.7223 - accuracy: 0.73 - ETA: 1:35 - loss: 0.7221 - accuracy: 0.73 - ETA: 1:35 - loss: 0.7219 - accuracy: 0.73 - ETA: 1:35 - loss: 0.7216 - accuracy: 0.73 - ETA: 1:34 - loss: 0.7212 - accuracy: 0.73 - ETA: 1:34 - loss: 0.7207 - accuracy: 0.73 - ETA: 1:34 - loss: 0.7202 - accuracy: 0.73 - ETA: 1:33 - loss: 0.7200 - accuracy: 0.73 - ETA: 1:33 - loss: 0.7200 - accuracy: 0.73 - ETA: 1:33 - loss: 0.7196 - accuracy: 0.73 - ETA: 1:33 - loss: 0.7191 - accuracy: 0.74 - ETA: 1:32 - loss: 0.7188 - accuracy: 0.74 - ETA: 1:32 - loss: 0.7183 - accuracy: 0.74 - ETA: 1:32 - loss: 0.7176 - accuracy: 0.74 - ETA: 1:32 - loss: 0.7174 - accuracy: 0.74 - ETA: 1:31 - loss: 0.7169 - accuracy: 0.74 - ETA: 1:31 - loss: 0.7165 - accuracy: 0.74 - ETA: 1:31 - loss: 0.7159 - accuracy: 0.74 - ETA: 1:30 - loss: 0.7156 - accuracy: 0.74 - ETA: 1:30 - loss: 0.7154 - accuracy: 0.74 - ETA: 1:30 - loss: 0.7151 - accuracy: 0.74 - ETA: 1:30 - loss: 0.7147 - accuracy: 0.74 - ETA: 1:29 - loss: 0.7146 - accuracy: 0.74 - ETA: 1:29 - loss: 0.7144 - accuracy: 0.74 - ETA: 1:29 - loss: 0.7142 - accuracy: 0.74 - ETA: 1:28 - loss: 0.7136 - accuracy: 0.74 - ETA: 1:28 - loss: 0.7134 - accuracy: 0.74 - ETA: 1:28 - loss: 0.7129 - accuracy: 0.74 - ETA: 1:28 - loss: 0.7123 - accuracy: 0.74 - ETA: 1:27 - loss: 0.7118 - accuracy: 0.74 - ETA: 1:27 - loss: 0.7113 - accuracy: 0.74 - ETA: 1:27 - loss: 0.7108 - accuracy: 0.74 - ETA: 1:26 - loss: 0.7104 - accuracy: 0.74 - ETA: 1:26 - loss: 0.7101 - accuracy: 0.74 - ETA: 1:26 - loss: 0.7097 - accuracy: 0.74 - ETA: 1:26 - loss: 0.7095 - accuracy: 0.74 - ETA: 1:25 - loss: 0.7092 - accuracy: 0.74 - ETA: 1:25 - loss: 0.7088 - accuracy: 0.74 - ETA: 1:25 - loss: 0.7082 - accuracy: 0.74 - ETA: 1:24 - loss: 0.7079 - accuracy: 0.74 - ETA: 1:24 - loss: 0.7077 - accuracy: 0.74 - ETA: 1:24 - loss: 0.7072 - accuracy: 0.74 - ETA: 1:24 - loss: 0.7069 - accuracy: 0.74 - ETA: 1:23 - loss: 0.7064 - accuracy: 0.74 - ETA: 1:23 - loss: 0.7059 - accuracy: 0.74 - ETA: 1:23 - loss: 0.7055 - accuracy: 0.74 - ETA: 1:22 - loss: 0.7052 - accuracy: 0.74 - ETA: 1:22 - loss: 0.7052 - accuracy: 0.74 - ETA: 1:22 - loss: 0.7048 - accuracy: 0.74 - ETA: 1:22 - loss: 0.7046 - accuracy: 0.74 - ETA: 1:21 - loss: 0.7043 - accuracy: 0.74 - ETA: 1:21 - loss: 0.7038 - accuracy: 0.74 - ETA: 1:21 - loss: 0.7039 - accuracy: 0.74 - ETA: 1:21 - loss: 0.7038 - accuracy: 0.74 - ETA: 1:20 - loss: 0.7036 - accuracy: 0.74 - ETA: 1:20 - loss: 0.7031 - accuracy: 0.74 - ETA: 1:20 - loss: 0.7027 - accuracy: 0.74 - ETA: 1:19 - loss: 0.7024 - accuracy: 0.74 - ETA: 1:19 - loss: 0.7020 - accuracy: 0.74 - ETA: 1:19 - loss: 0.7016 - accuracy: 0.74 - ETA: 1:19 - loss: 0.7010 - accuracy: 0.74 - ETA: 1:18 - loss: 0.7008 - accuracy: 0.74 - ETA: 1:18 - loss: 0.7005 - accuracy: 0.74 - ETA: 1:18 - loss: 0.7005 - accuracy: 0.74 - ETA: 1:17 - loss: 0.7006 - accuracy: 0.74 - ETA: 1:17 - loss: 0.7003 - accuracy: 0.74 - ETA: 1:17 - loss: 0.7001 - accuracy: 0.74 - ETA: 1:17 - loss: 0.6997 - accuracy: 0.74 - ETA: 1:16 - loss: 0.6991 - accuracy: 0.74 - ETA: 1:16 - loss: 0.6991 - accuracy: 0.74 - ETA: 1:16 - loss: 0.6986 - accuracy: 0.74 - ETA: 1:16 - loss: 0.6981 - accuracy: 0.74 - ETA: 1:15 - loss: 0.6978 - accuracy: 0.74 - ETA: 1:15 - loss: 0.6976 - accuracy: 0.74 - ETA: 1:15 - loss: 0.6973 - accuracy: 0.74 - ETA: 1:14 - loss: 0.6969 - accuracy: 0.74 - ETA: 1:14 - loss: 0.6964 - accuracy: 0.74 - ETA: 1:14 - loss: 0.6965 - accuracy: 0.74 - ETA: 1:14 - loss: 0.6960 - accuracy: 0.74 - ETA: 1:13 - loss: 0.6957 - accuracy: 0.74 - ETA: 1:13 - loss: 0.6953 - accuracy: 0.74 - ETA: 1:13 - loss: 0.6950 - accuracy: 0.74 - ETA: 1:12 - loss: 0.6948 - accuracy: 0.74 - ETA: 1:12 - loss: 0.6945 - accuracy: 0.74 - ETA: 1:12 - loss: 0.6940 - accuracy: 0.74 - ETA: 1:12 - loss: 0.6936 - accuracy: 0.74 - ETA: 1:11 - loss: 0.6932 - accuracy: 0.74 - ETA: 1:11 - loss: 0.6932 - accuracy: 0.74 - ETA: 1:11 - loss: 0.6931 - accuracy: 0.74 - ETA: 1:11 - loss: 0.6928 - accuracy: 0.74 - ETA: 1:10 - loss: 0.6926 - accuracy: 0.74 - ETA: 1:10 - loss: 0.6924 - accuracy: 0.74 - ETA: 1:10 - loss: 0.6922 - accuracy: 0.74 - ETA: 1:09 - loss: 0.6920 - accuracy: 0.74 - ETA: 1:09 - loss: 0.6916 - accuracy: 0.74 - ETA: 1:09 - loss: 0.6913 - accuracy: 0.74 - ETA: 1:09 - loss: 0.6910 - accuracy: 0.74 - ETA: 1:08 - loss: 0.6909 - accuracy: 0.74 - ETA: 1:08 - loss: 0.6902 - accuracy: 0.75 - ETA: 1:08 - loss: 0.6898 - accuracy: 0.75 - ETA: 1:07 - loss: 0.6893 - accuracy: 0.75 - ETA: 1:07 - loss: 0.6889 - accuracy: 0.75 - ETA: 1:07 - loss: 0.6885 - accuracy: 0.75 - ETA: 1:07 - loss: 0.6881 - accuracy: 0.75 - ETA: 1:06 - loss: 0.6875 - accuracy: 0.75 - ETA: 1:06 - loss: 0.6875 - accuracy: 0.75 - ETA: 1:06 - loss: 0.6873 - accuracy: 0.75 - ETA: 1:06 - loss: 0.6868 - accuracy: 0.75 - ETA: 1:05 - loss: 0.6865 - accuracy: 0.75 - ETA: 1:05 - loss: 0.6861 - accuracy: 0.75 - ETA: 1:05 - loss: 0.6859 - accuracy: 0.75 - ETA: 1:04 - loss: 0.6857 - accuracy: 0.75 - ETA: 1:04 - loss: 0.6853 - accuracy: 0.75 - ETA: 1:04 - loss: 0.6850 - accuracy: 0.75 - ETA: 1:04 - loss: 0.6849 - accuracy: 0.75 - ETA: 1:03 - loss: 0.6845 - accuracy: 0.75 - ETA: 1:03 - loss: 0.6842 - accuracy: 0.75 - ETA: 1:03 - loss: 0.6842 - accuracy: 0.75 - ETA: 1:03 - loss: 0.6840 - accuracy: 0.75 - ETA: 1:02 - loss: 0.6836 - accuracy: 0.75 - ETA: 1:02 - loss: 0.6838 - accuracy: 0.75 - ETA: 1:02 - loss: 0.6836 - accuracy: 0.75 - ETA: 1:01 - loss: 0.6833 - accuracy: 0.75 - ETA: 1:01 - loss: 0.6828 - accuracy: 0.75 - ETA: 1:01 - loss: 0.6824 - accuracy: 0.75 - ETA: 1:01 - loss: 0.6822 - accuracy: 0.75 - ETA: 1:00 - loss: 0.6821 - accuracy: 0.75 - ETA: 1:00 - loss: 0.6818 - accuracy: 0.75 - ETA: 1:00 - loss: 0.6815 - accuracy: 0.75 - ETA: 59s - loss: 0.6811 - accuracy: 0.7535 - ETA: 59s - loss: 0.6809 - accuracy: 0.753 - ETA: 59s - loss: 0.6809 - accuracy: 0.753 - ETA: 59s - loss: 0.6806 - accuracy: 0.753 - ETA: 58s - loss: 0.6803 - accuracy: 0.753 - ETA: 58s - loss: 0.6799 - accuracy: 0.753 - ETA: 58s - loss: 0.6797 - accuracy: 0.753 - ETA: 58s - loss: 0.6795 - accuracy: 0.754 - ETA: 57s - loss: 0.6791 - accuracy: 0.754 - ETA: 57s - loss: 0.6787 - accuracy: 0.754 - ETA: 57s - loss: 0.6783 - accuracy: 0.754 - ETA: 56s - loss: 0.6780 - accuracy: 0.754 - ETA: 56s - loss: 0.6779 - accuracy: 0.754 - ETA: 56s - loss: 0.6777 - accuracy: 0.754 - ETA: 56s - loss: 0.6773 - accuracy: 0.754 - ETA: 55s - loss: 0.6769 - accuracy: 0.755 - ETA: 55s - loss: 0.6765 - accuracy: 0.755 - ETA: 55s - loss: 0.6763 - accuracy: 0.755 - ETA: 54s - loss: 0.6762 - accuracy: 0.755 - ETA: 54s - loss: 0.6758 - accuracy: 0.755 - ETA: 54s - loss: 0.6758 - accuracy: 0.755 - ETA: 54s - loss: 0.6754 - accuracy: 0.755 - ETA: 53s - loss: 0.6750 - accuracy: 0.755 - ETA: 53s - loss: 0.6747 - accuracy: 0.755 - ETA: 53s - loss: 0.6745 - accuracy: 0.755 - ETA: 53s - loss: 0.6741 - accuracy: 0.7560"
     ]
    },
    {
     "name": "stdout",
     "output_type": "stream",
     "text": [
      "931/938 [============================>.] - ETA: 52s - loss: 0.6739 - accuracy: 0.756 - ETA: 52s - loss: 0.6735 - accuracy: 0.756 - ETA: 52s - loss: 0.6731 - accuracy: 0.756 - ETA: 51s - loss: 0.6732 - accuracy: 0.756 - ETA: 51s - loss: 0.6732 - accuracy: 0.756 - ETA: 51s - loss: 0.6727 - accuracy: 0.756 - ETA: 51s - loss: 0.6723 - accuracy: 0.756 - ETA: 50s - loss: 0.6720 - accuracy: 0.757 - ETA: 50s - loss: 0.6718 - accuracy: 0.757 - ETA: 50s - loss: 0.6714 - accuracy: 0.757 - ETA: 50s - loss: 0.6712 - accuracy: 0.757 - ETA: 49s - loss: 0.6707 - accuracy: 0.757 - ETA: 49s - loss: 0.6705 - accuracy: 0.757 - ETA: 49s - loss: 0.6702 - accuracy: 0.757 - ETA: 48s - loss: 0.6701 - accuracy: 0.757 - ETA: 48s - loss: 0.6697 - accuracy: 0.757 - ETA: 48s - loss: 0.6694 - accuracy: 0.757 - ETA: 48s - loss: 0.6693 - accuracy: 0.757 - ETA: 47s - loss: 0.6690 - accuracy: 0.758 - ETA: 47s - loss: 0.6688 - accuracy: 0.758 - ETA: 47s - loss: 0.6688 - accuracy: 0.758 - ETA: 47s - loss: 0.6685 - accuracy: 0.758 - ETA: 46s - loss: 0.6682 - accuracy: 0.758 - ETA: 46s - loss: 0.6683 - accuracy: 0.758 - ETA: 46s - loss: 0.6681 - accuracy: 0.758 - ETA: 45s - loss: 0.6677 - accuracy: 0.758 - ETA: 45s - loss: 0.6675 - accuracy: 0.758 - ETA: 45s - loss: 0.6673 - accuracy: 0.758 - ETA: 45s - loss: 0.6671 - accuracy: 0.759 - ETA: 44s - loss: 0.6669 - accuracy: 0.759 - ETA: 44s - loss: 0.6668 - accuracy: 0.759 - ETA: 44s - loss: 0.6664 - accuracy: 0.759 - ETA: 44s - loss: 0.6660 - accuracy: 0.759 - ETA: 43s - loss: 0.6660 - accuracy: 0.759 - ETA: 43s - loss: 0.6655 - accuracy: 0.759 - ETA: 43s - loss: 0.6655 - accuracy: 0.759 - ETA: 42s - loss: 0.6653 - accuracy: 0.759 - ETA: 42s - loss: 0.6651 - accuracy: 0.759 - ETA: 42s - loss: 0.6647 - accuracy: 0.759 - ETA: 42s - loss: 0.6643 - accuracy: 0.759 - ETA: 41s - loss: 0.6645 - accuracy: 0.759 - ETA: 41s - loss: 0.6642 - accuracy: 0.760 - ETA: 41s - loss: 0.6639 - accuracy: 0.760 - ETA: 41s - loss: 0.6638 - accuracy: 0.760 - ETA: 40s - loss: 0.6636 - accuracy: 0.760 - ETA: 40s - loss: 0.6633 - accuracy: 0.760 - ETA: 40s - loss: 0.6633 - accuracy: 0.760 - ETA: 39s - loss: 0.6631 - accuracy: 0.760 - ETA: 39s - loss: 0.6629 - accuracy: 0.760 - ETA: 39s - loss: 0.6630 - accuracy: 0.760 - ETA: 39s - loss: 0.6625 - accuracy: 0.760 - ETA: 38s - loss: 0.6621 - accuracy: 0.760 - ETA: 38s - loss: 0.6620 - accuracy: 0.760 - ETA: 38s - loss: 0.6618 - accuracy: 0.760 - ETA: 38s - loss: 0.6617 - accuracy: 0.761 - ETA: 37s - loss: 0.6614 - accuracy: 0.761 - ETA: 37s - loss: 0.6614 - accuracy: 0.761 - ETA: 37s - loss: 0.6613 - accuracy: 0.761 - ETA: 36s - loss: 0.6613 - accuracy: 0.761 - ETA: 36s - loss: 0.6612 - accuracy: 0.761 - ETA: 36s - loss: 0.6607 - accuracy: 0.761 - ETA: 36s - loss: 0.6602 - accuracy: 0.761 - ETA: 35s - loss: 0.6601 - accuracy: 0.761 - ETA: 35s - loss: 0.6599 - accuracy: 0.761 - ETA: 35s - loss: 0.6600 - accuracy: 0.761 - ETA: 35s - loss: 0.6597 - accuracy: 0.761 - ETA: 34s - loss: 0.6596 - accuracy: 0.761 - ETA: 34s - loss: 0.6594 - accuracy: 0.761 - ETA: 34s - loss: 0.6590 - accuracy: 0.762 - ETA: 33s - loss: 0.6587 - accuracy: 0.762 - ETA: 33s - loss: 0.6585 - accuracy: 0.762 - ETA: 33s - loss: 0.6583 - accuracy: 0.762 - ETA: 33s - loss: 0.6580 - accuracy: 0.762 - ETA: 32s - loss: 0.6579 - accuracy: 0.762 - ETA: 32s - loss: 0.6577 - accuracy: 0.762 - ETA: 32s - loss: 0.6575 - accuracy: 0.762 - ETA: 31s - loss: 0.6574 - accuracy: 0.762 - ETA: 31s - loss: 0.6572 - accuracy: 0.762 - ETA: 31s - loss: 0.6570 - accuracy: 0.762 - ETA: 31s - loss: 0.6568 - accuracy: 0.762 - ETA: 30s - loss: 0.6564 - accuracy: 0.762 - ETA: 30s - loss: 0.6563 - accuracy: 0.762 - ETA: 30s - loss: 0.6560 - accuracy: 0.762 - ETA: 30s - loss: 0.6559 - accuracy: 0.762 - ETA: 29s - loss: 0.6557 - accuracy: 0.763 - ETA: 29s - loss: 0.6555 - accuracy: 0.763 - ETA: 29s - loss: 0.6553 - accuracy: 0.763 - ETA: 28s - loss: 0.6551 - accuracy: 0.763 - ETA: 28s - loss: 0.6551 - accuracy: 0.763 - ETA: 28s - loss: 0.6549 - accuracy: 0.763 - ETA: 28s - loss: 0.6547 - accuracy: 0.763 - ETA: 27s - loss: 0.6547 - accuracy: 0.763 - ETA: 27s - loss: 0.6544 - accuracy: 0.763 - ETA: 27s - loss: 0.6543 - accuracy: 0.763 - ETA: 27s - loss: 0.6544 - accuracy: 0.763 - ETA: 26s - loss: 0.6544 - accuracy: 0.763 - ETA: 26s - loss: 0.6542 - accuracy: 0.763 - ETA: 26s - loss: 0.6539 - accuracy: 0.763 - ETA: 25s - loss: 0.6536 - accuracy: 0.763 - ETA: 25s - loss: 0.6534 - accuracy: 0.763 - ETA: 25s - loss: 0.6532 - accuracy: 0.763 - ETA: 25s - loss: 0.6530 - accuracy: 0.763 - ETA: 24s - loss: 0.6531 - accuracy: 0.763 - ETA: 24s - loss: 0.6528 - accuracy: 0.763 - ETA: 24s - loss: 0.6527 - accuracy: 0.763 - ETA: 24s - loss: 0.6527 - accuracy: 0.763 - ETA: 23s - loss: 0.6525 - accuracy: 0.763 - ETA: 23s - loss: 0.6523 - accuracy: 0.764 - ETA: 23s - loss: 0.6520 - accuracy: 0.764 - ETA: 22s - loss: 0.6520 - accuracy: 0.764 - ETA: 22s - loss: 0.6518 - accuracy: 0.764 - ETA: 22s - loss: 0.6515 - accuracy: 0.764 - ETA: 22s - loss: 0.6512 - accuracy: 0.764 - ETA: 21s - loss: 0.6508 - accuracy: 0.764 - ETA: 21s - loss: 0.6508 - accuracy: 0.764 - ETA: 21s - loss: 0.6507 - accuracy: 0.764 - ETA: 21s - loss: 0.6505 - accuracy: 0.764 - ETA: 20s - loss: 0.6502 - accuracy: 0.764 - ETA: 20s - loss: 0.6499 - accuracy: 0.764 - ETA: 20s - loss: 0.6497 - accuracy: 0.764 - ETA: 19s - loss: 0.6494 - accuracy: 0.765 - ETA: 19s - loss: 0.6494 - accuracy: 0.765 - ETA: 19s - loss: 0.6491 - accuracy: 0.765 - ETA: 19s - loss: 0.6488 - accuracy: 0.765 - ETA: 18s - loss: 0.6483 - accuracy: 0.765 - ETA: 18s - loss: 0.6481 - accuracy: 0.765 - ETA: 18s - loss: 0.6479 - accuracy: 0.765 - ETA: 18s - loss: 0.6476 - accuracy: 0.765 - ETA: 17s - loss: 0.6473 - accuracy: 0.765 - ETA: 17s - loss: 0.6472 - accuracy: 0.765 - ETA: 17s - loss: 0.6469 - accuracy: 0.765 - ETA: 16s - loss: 0.6467 - accuracy: 0.765 - ETA: 16s - loss: 0.6466 - accuracy: 0.766 - ETA: 16s - loss: 0.6464 - accuracy: 0.766 - ETA: 16s - loss: 0.6461 - accuracy: 0.766 - ETA: 15s - loss: 0.6459 - accuracy: 0.766 - ETA: 15s - loss: 0.6457 - accuracy: 0.766 - ETA: 15s - loss: 0.6455 - accuracy: 0.766 - ETA: 15s - loss: 0.6456 - accuracy: 0.766 - ETA: 14s - loss: 0.6454 - accuracy: 0.766 - ETA: 14s - loss: 0.6453 - accuracy: 0.766 - ETA: 14s - loss: 0.6450 - accuracy: 0.766 - ETA: 13s - loss: 0.6448 - accuracy: 0.766 - ETA: 13s - loss: 0.6446 - accuracy: 0.766 - ETA: 13s - loss: 0.6446 - accuracy: 0.766 - ETA: 13s - loss: 0.6444 - accuracy: 0.766 - ETA: 12s - loss: 0.6442 - accuracy: 0.766 - ETA: 12s - loss: 0.6441 - accuracy: 0.766 - ETA: 12s - loss: 0.6439 - accuracy: 0.766 - ETA: 12s - loss: 0.6436 - accuracy: 0.766 - ETA: 11s - loss: 0.6433 - accuracy: 0.767 - ETA: 11s - loss: 0.6432 - accuracy: 0.767 - ETA: 11s - loss: 0.6430 - accuracy: 0.767 - ETA: 10s - loss: 0.6429 - accuracy: 0.767 - ETA: 10s - loss: 0.6426 - accuracy: 0.767 - ETA: 10s - loss: 0.6427 - accuracy: 0.767 - ETA: 10s - loss: 0.6424 - accuracy: 0.767 - ETA: 9s - loss: 0.6422 - accuracy: 0.767 - ETA: 9s - loss: 0.6421 - accuracy: 0.76 - ETA: 9s - loss: 0.6420 - accuracy: 0.76 - ETA: 9s - loss: 0.6419 - accuracy: 0.76 - ETA: 8s - loss: 0.6417 - accuracy: 0.76 - ETA: 8s - loss: 0.6414 - accuracy: 0.76 - ETA: 8s - loss: 0.6412 - accuracy: 0.76 - ETA: 7s - loss: 0.6408 - accuracy: 0.76 - ETA: 7s - loss: 0.6407 - accuracy: 0.76 - ETA: 7s - loss: 0.6406 - accuracy: 0.76 - ETA: 7s - loss: 0.6403 - accuracy: 0.76 - ETA: 6s - loss: 0.6401 - accuracy: 0.76 - ETA: 6s - loss: 0.6399 - accuracy: 0.76 - ETA: 6s - loss: 0.6398 - accuracy: 0.76 - ETA: 6s - loss: 0.6398 - accuracy: 0.76 - ETA: 5s - loss: 0.6395 - accuracy: 0.76 - ETA: 5s - loss: 0.6395 - accuracy: 0.76 - ETA: 5s - loss: 0.6393 - accuracy: 0.76 - ETA: 4s - loss: 0.6391 - accuracy: 0.76 - ETA: 4s - loss: 0.6392 - accuracy: 0.76 - ETA: 4s - loss: 0.6389 - accuracy: 0.76 - ETA: 4s - loss: 0.6387 - accuracy: 0.76 - ETA: 3s - loss: 0.6385 - accuracy: 0.76 - ETA: 3s - loss: 0.6384 - accuracy: 0.76 - ETA: 3s - loss: 0.6381 - accuracy: 0.76 - ETA: 3s - loss: 0.6379 - accuracy: 0.76 - ETA: 2s - loss: 0.6376 - accuracy: 0.76 - ETA: 2s - loss: 0.6375 - accuracy: 0.76 - ETA: 2s - loss: 0.6374 - accuracy: 0.76 - ETA: 1s - loss: 0.6374 - accuracy: 0.7690"
     ]
    },
    {
     "name": "stdout",
     "output_type": "stream",
     "text": [
      "938/938 [==============================] - ETA: 1s - loss: 0.6371 - accuracy: 0.76 - ETA: 1s - loss: 0.6368 - accuracy: 0.76 - ETA: 1s - loss: 0.6366 - accuracy: 0.76 - ETA: 0s - loss: 0.6363 - accuracy: 0.76 - ETA: 0s - loss: 0.6363 - accuracy: 0.76 - ETA: 0s - loss: 0.6362 - accuracy: 0.76 - ETA: 0s - loss: 0.6360 - accuracy: 0.76 - 268s 286ms/step - loss: 0.6360 - accuracy: 0.7696 - val_loss: 0.4753 - val_accuracy: 0.8320\n"
     ]
    },
    {
     "data": {
      "text/html": [
       "<span style=\"color:#4527A0\"><h1 style=\"font-size:18px\">Trial complete</h1></span>"
      ],
      "text/plain": [
       "<IPython.core.display.HTML object>"
      ]
     },
     "metadata": {},
     "output_type": "display_data"
    },
    {
     "data": {
      "text/html": [
       "<span style=\"color:#4527A0\"><h1 style=\"font-size:18px\">Trial summary</h1></span>"
      ],
      "text/plain": [
       "<IPython.core.display.HTML object>"
      ]
     },
     "metadata": {},
     "output_type": "display_data"
    },
    {
     "data": {
      "text/html": [
       "<span style=\"color:cyan\"> |-Trial ID: 0baeae2b4d36ba136c396acec301bae8</span>"
      ],
      "text/plain": [
       "<IPython.core.display.HTML object>"
      ]
     },
     "metadata": {},
     "output_type": "display_data"
    },
    {
     "data": {
      "text/html": [
       "<span style=\"color:cyan\"> |-Score: 0.8320000171661377</span>"
      ],
      "text/plain": [
       "<IPython.core.display.HTML object>"
      ]
     },
     "metadata": {},
     "output_type": "display_data"
    },
    {
     "data": {
      "text/html": [
       "<span style=\"color:cyan\"> |-Best step: 0</span>"
      ],
      "text/plain": [
       "<IPython.core.display.HTML object>"
      ]
     },
     "metadata": {},
     "output_type": "display_data"
    },
    {
     "data": {
      "text/html": [
       "<span style=\"color:#7E57C2\"><h2 style=\"font-size:16px\">Hyperparameters:</h2></span>"
      ],
      "text/plain": [
       "<IPython.core.display.HTML object>"
      ]
     },
     "metadata": {},
     "output_type": "display_data"
    },
    {
     "data": {
      "text/html": [
       "<span style=\"color:cyan\"> |-c2_layer_n: 2</span>"
      ],
      "text/plain": [
       "<IPython.core.display.HTML object>"
      ]
     },
     "metadata": {},
     "output_type": "display_data"
    },
    {
     "data": {
      "text/html": [
       "<span style=\"color:blue\"> |-conv2_with_0_units: 32</span>"
      ],
      "text/plain": [
       "<IPython.core.display.HTML object>"
      ]
     },
     "metadata": {},
     "output_type": "display_data"
    },
    {
     "data": {
      "text/html": [
       "<span style=\"color:cyan\"> |-conv2_with_1_units: 96</span>"
      ],
      "text/plain": [
       "<IPython.core.display.HTML object>"
      ]
     },
     "metadata": {},
     "output_type": "display_data"
    },
    {
     "data": {
      "text/html": [
       "<span style=\"color:blue\"> |-input: 64</span>"
      ],
      "text/plain": [
       "<IPython.core.display.HTML object>"
      ]
     },
     "metadata": {},
     "output_type": "display_data"
    },
    {
     "name": "stdout",
     "output_type": "stream",
     "text": [
      "INFO:tensorflow:Oracle triggered exit\n"
     ]
    }
   ],
   "source": [
    "tuner = RandomSearch(cnn_with_tuning,objective = \"val_accuracy\",max_trials=2,directory='tuning_log')\n",
    "tuner.search(x = x_train,\n",
    "            y=y_train,\n",
    "            epochs = 1,\n",
    "            batch_size=64,\n",
    "            validation_data=(x_test,y_test))"
   ]
  },
  {
   "cell_type": "code",
   "execution_count": 29,
   "metadata": {},
   "outputs": [
    {
     "name": "stdout",
     "output_type": "stream",
     "text": [
      "{'input': 64, 'c2_layer_n': 2, 'conv2_with_0_units': 32, 'conv2_with_1_units': 96}\n"
     ]
    },
    {
     "data": {
      "text/html": [
       "<span style=\"color:#4527A0\"><h1 style=\"font-size:18px\">Results summary</h1></span>"
      ],
      "text/plain": [
       "<IPython.core.display.HTML object>"
      ]
     },
     "metadata": {},
     "output_type": "display_data"
    },
    {
     "data": {
      "text/html": [
       "<span style=\"color:cyan\"> |-Results in tuning_log\\untitled_project</span>"
      ],
      "text/plain": [
       "<IPython.core.display.HTML object>"
      ]
     },
     "metadata": {},
     "output_type": "display_data"
    },
    {
     "data": {
      "text/html": [
       "<span style=\"color:cyan\"> |-Showing 10 best trials</span>"
      ],
      "text/plain": [
       "<IPython.core.display.HTML object>"
      ]
     },
     "metadata": {},
     "output_type": "display_data"
    },
    {
     "data": {
      "text/html": [
       "<span style=\"color:cyan\"> |-Objective(name='val_accuracy', direction='max')</span>"
      ],
      "text/plain": [
       "<IPython.core.display.HTML object>"
      ]
     },
     "metadata": {},
     "output_type": "display_data"
    },
    {
     "data": {
      "text/html": [
       "<span style=\"color:#4527A0\"><h1 style=\"font-size:18px\">Trial summary</h1></span>"
      ],
      "text/plain": [
       "<IPython.core.display.HTML object>"
      ]
     },
     "metadata": {},
     "output_type": "display_data"
    },
    {
     "data": {
      "text/html": [
       "<span style=\"color:cyan\"> |-Trial ID: 0baeae2b4d36ba136c396acec301bae8</span>"
      ],
      "text/plain": [
       "<IPython.core.display.HTML object>"
      ]
     },
     "metadata": {},
     "output_type": "display_data"
    },
    {
     "data": {
      "text/html": [
       "<span style=\"color:cyan\"> |-Score: 0.8320000171661377</span>"
      ],
      "text/plain": [
       "<IPython.core.display.HTML object>"
      ]
     },
     "metadata": {},
     "output_type": "display_data"
    },
    {
     "data": {
      "text/html": [
       "<span style=\"color:cyan\"> |-Best step: 0</span>"
      ],
      "text/plain": [
       "<IPython.core.display.HTML object>"
      ]
     },
     "metadata": {},
     "output_type": "display_data"
    },
    {
     "data": {
      "text/html": [
       "<span style=\"color:#7E57C2\"><h2 style=\"font-size:16px\">Hyperparameters:</h2></span>"
      ],
      "text/plain": [
       "<IPython.core.display.HTML object>"
      ]
     },
     "metadata": {},
     "output_type": "display_data"
    },
    {
     "data": {
      "text/html": [
       "<span style=\"color:cyan\"> |-c2_layer_n: 2</span>"
      ],
      "text/plain": [
       "<IPython.core.display.HTML object>"
      ]
     },
     "metadata": {},
     "output_type": "display_data"
    },
    {
     "data": {
      "text/html": [
       "<span style=\"color:blue\"> |-conv2_with_0_units: 32</span>"
      ],
      "text/plain": [
       "<IPython.core.display.HTML object>"
      ]
     },
     "metadata": {},
     "output_type": "display_data"
    },
    {
     "data": {
      "text/html": [
       "<span style=\"color:cyan\"> |-conv2_with_1_units: 96</span>"
      ],
      "text/plain": [
       "<IPython.core.display.HTML object>"
      ]
     },
     "metadata": {},
     "output_type": "display_data"
    },
    {
     "data": {
      "text/html": [
       "<span style=\"color:blue\"> |-input: 64</span>"
      ],
      "text/plain": [
       "<IPython.core.display.HTML object>"
      ]
     },
     "metadata": {},
     "output_type": "display_data"
    },
    {
     "data": {
      "text/html": [
       "<span style=\"color:#4527A0\"><h1 style=\"font-size:18px\">Trial summary</h1></span>"
      ],
      "text/plain": [
       "<IPython.core.display.HTML object>"
      ]
     },
     "metadata": {},
     "output_type": "display_data"
    },
    {
     "data": {
      "text/html": [
       "<span style=\"color:cyan\"> |-Trial ID: 177eb3f1ec8e28e35cffc3efe7872262</span>"
      ],
      "text/plain": [
       "<IPython.core.display.HTML object>"
      ]
     },
     "metadata": {},
     "output_type": "display_data"
    },
    {
     "data": {
      "text/html": [
       "<span style=\"color:cyan\"> |-Score: 0.8306999802589417</span>"
      ],
      "text/plain": [
       "<IPython.core.display.HTML object>"
      ]
     },
     "metadata": {},
     "output_type": "display_data"
    },
    {
     "data": {
      "text/html": [
       "<span style=\"color:cyan\"> |-Best step: 0</span>"
      ],
      "text/plain": [
       "<IPython.core.display.HTML object>"
      ]
     },
     "metadata": {},
     "output_type": "display_data"
    },
    {
     "data": {
      "text/html": [
       "<span style=\"color:#7E57C2\"><h2 style=\"font-size:16px\">Hyperparameters:</h2></span>"
      ],
      "text/plain": [
       "<IPython.core.display.HTML object>"
      ]
     },
     "metadata": {},
     "output_type": "display_data"
    },
    {
     "data": {
      "text/html": [
       "<span style=\"color:cyan\"> |-c2_layer_n: 2</span>"
      ],
      "text/plain": [
       "<IPython.core.display.HTML object>"
      ]
     },
     "metadata": {},
     "output_type": "display_data"
    },
    {
     "data": {
      "text/html": [
       "<span style=\"color:blue\"> |-conv2_with_0_units: 128</span>"
      ],
      "text/plain": [
       "<IPython.core.display.HTML object>"
      ]
     },
     "metadata": {},
     "output_type": "display_data"
    },
    {
     "data": {
      "text/html": [
       "<span style=\"color:cyan\"> |-conv2_with_1_units: 32</span>"
      ],
      "text/plain": [
       "<IPython.core.display.HTML object>"
      ]
     },
     "metadata": {},
     "output_type": "display_data"
    },
    {
     "data": {
      "text/html": [
       "<span style=\"color:blue\"> |-input: 64</span>"
      ],
      "text/plain": [
       "<IPython.core.display.HTML object>"
      ]
     },
     "metadata": {},
     "output_type": "display_data"
    },
    {
     "name": "stdout",
     "output_type": "stream",
     "text": [
      "None\n",
      "Model: \"sequential\"\n",
      "_________________________________________________________________\n",
      "Layer (type)                 Output Shape              Param #   \n",
      "=================================================================\n",
      "conv2d (Conv2D)              (None, 26, 26, 64)        640       \n",
      "_________________________________________________________________\n",
      "activation (Activation)      (None, 26, 26, 64)        0         \n",
      "_________________________________________________________________\n",
      "max_pooling2d (MaxPooling2D) (None, 13, 13, 64)        0         \n",
      "_________________________________________________________________\n",
      "conv2d_1 (Conv2D)            (None, 11, 11, 32)        18464     \n",
      "_________________________________________________________________\n",
      "activation_1 (Activation)    (None, 11, 11, 32)        0         \n",
      "_________________________________________________________________\n",
      "max_pooling2d_1 (MaxPooling2 (None, 5, 5, 32)          0         \n",
      "_________________________________________________________________\n",
      "conv2d_2 (Conv2D)            (None, 3, 3, 96)          27744     \n",
      "_________________________________________________________________\n",
      "activation_2 (Activation)    (None, 3, 3, 96)          0         \n",
      "_________________________________________________________________\n",
      "max_pooling2d_2 (MaxPooling2 (None, 1, 1, 96)          0         \n",
      "_________________________________________________________________\n",
      "flatten (Flatten)            (None, 96)                0         \n",
      "_________________________________________________________________\n",
      "dense (Dense)                (None, 10)                970       \n",
      "_________________________________________________________________\n",
      "activation_3 (Activation)    (None, 10)                0         \n",
      "=================================================================\n",
      "Total params: 47,818\n",
      "Trainable params: 47,818\n",
      "Non-trainable params: 0\n",
      "_________________________________________________________________\n",
      "WARNING:tensorflow:Unresolved object in checkpoint: (root).optimizer.iter\n",
      "WARNING:tensorflow:Unresolved object in checkpoint: (root).optimizer.beta_1\n",
      "WARNING:tensorflow:Unresolved object in checkpoint: (root).optimizer.beta_2\n",
      "WARNING:tensorflow:Unresolved object in checkpoint: (root).optimizer.decay\n",
      "WARNING:tensorflow:Unresolved object in checkpoint: (root).optimizer.learning_rate\n",
      "WARNING:tensorflow:A checkpoint was restored (e.g. tf.train.Checkpoint.restore or tf.keras.Model.load_weights) but not all checkpointed values were used. See above for specific issues. Use expect_partial() on the load status object, e.g. tf.train.Checkpoint.restore(...).expect_partial(), to silence these warnings, or use assert_consumed() to make the check explicit. See https://www.tensorflow.org/guide/checkpoint#loading_mechanics for details.\n",
      "None\n"
     ]
    }
   ],
   "source": [
    "print(tuner.get_best_hyperparameters()[0].values)\n",
    "print(tuner.results_summary())\n",
    "print(tuner.get_best_models()[0].summary())"
   ]
  },
  {
   "cell_type": "code",
   "execution_count": null,
   "metadata": {},
   "outputs": [],
   "source": []
  }
 ],
 "metadata": {
  "kernelspec": {
   "display_name": "Python 3",
   "language": "python",
   "name": "python3"
  },
  "language_info": {
   "codemirror_mode": {
    "name": "ipython",
    "version": 3
   },
   "file_extension": ".py",
   "mimetype": "text/x-python",
   "name": "python",
   "nbconvert_exporter": "python",
   "pygments_lexer": "ipython3",
   "version": "3.8.5"
  }
 },
 "nbformat": 4,
 "nbformat_minor": 4
}
